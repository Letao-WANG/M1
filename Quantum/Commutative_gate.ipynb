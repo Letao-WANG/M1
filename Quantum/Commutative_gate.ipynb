{
 "cells": [
  {
   "cell_type": "code",
   "execution_count": 1,
   "id": "b23b36f4",
   "metadata": {},
   "outputs": [],
   "source": [
    "import numpy as np\n",
    "from math import pi, gcd\n",
    "import sympy as sp\n",
    "from sympy.physics.quantum import TensorProduct\n",
    "import pandas as pd\n",
    "import random\n",
    "try:\n",
    "    from qiskit import *\n",
    "    from matplotlib.pyplot import plot,show\n",
    "except:\n",
    "    ! python -m pip install matplotlib pylatexenc\n",
    "    ! python -m pip install qiskit\n",
    "from qiskit.circuit import *\n",
    "from qiskit.extensions import *\n",
    "from qiskit.circuit.library import *\n",
    "from qiskit.extensions.simulator.snapshot import snapshot\n",
    "from qiskit.quantum_info.operators import Operator\n",
    "from qiskit.extensions.simulator.snapshot import snapshot\n",
    "from qiskit.compiler import transpile\n",
    "from qiskit.transpiler import PassManager\n",
    "from qiskit.transpiler.passes import Unroller\n",
    "from scipy import optimize\n",
    "from matplotlib.pyplot import plot,show\n",
    "%matplotlib inline\n",
    "%config InlineBackend.figure_format = 'svg' # Makes the images look nice"
   ]
  },
  {
   "cell_type": "code",
   "execution_count": 8,
   "id": "ef3aa17e",
   "metadata": {},
   "outputs": [],
   "source": [
    "x11, x12, x13, x14 = sp.symbols('x11, x12, x13, x14')\n",
    "x21, x22, x23, x24 = sp.symbols('x21, x22, x23, x24')\n",
    "x31, x32, x33, x34 = sp.symbols('x31, x32, x33, x34')\n",
    "x41, x42, x43, x44 = sp.symbols('x41, x42, x43, x44')\n",
    "\n",
    "K = sp.Matrix([[x11, x12, x13, x14],\n",
    "              [x21, x22, x23, x24],\n",
    "              [x31, x32, x33, x34],\n",
    "              [x41, x42, x43, x44]])\n",
    "\n",
    "# K = (1/2)*sp.Matrix([[2j, 0, 0, 0],\n",
    "#               [0, 2j, 0, 0],\n",
    "#               [0, 0, 2j, 0],\n",
    "#               [0, 0, 0, 2j]])\n",
    "\n",
    "a1, b1, a2, b2, a3, b3 = sp.symbols('a1, b1, a2, b2, a3, b3')\n",
    "x1 = sp.Matrix([[a1],[b1]])\n",
    "x2 = sp.Matrix([[a2],[b2]])\n",
    "x3 = sp.Matrix([[a3],[b3]])\n"
   ]
  },
  {
   "cell_type": "code",
   "execution_count": 3,
   "id": "4b45b57d",
   "metadata": {},
   "outputs": [],
   "source": [
    "def case1(K, x1, x2, x3):\n",
    "    X12 = TensorProduct(x1, x2)\n",
    "    X = TensorProduct(X12, x3)\n",
    "\n",
    "    O1 = TensorProduct(sp.eye(2), K)\n",
    "    state1 = O1.dot(X)\n",
    "\n",
    "    O2 = TensorProduct(K, sp.eye(2))\n",
    "    state2 = O2.dot(state1)\n",
    "    res1 = sp.Matrix(state2)\n",
    "    return res1\n",
    "\n",
    "def case2(K, x1, x2, x3):\n",
    "    X12 = TensorProduct(x1, x2)\n",
    "    X = TensorProduct(X12, x3)\n",
    "\n",
    "    O1 = TensorProduct(K, sp.eye(2))\n",
    "    state1 = O1.dot(X)\n",
    "\n",
    "    O2 = TensorProduct(sp.eye(2), K)\n",
    "    state2 = O2.dot(state1)\n",
    "    res2 = sp.Matrix(state2)\n",
    "    return res2\n",
    "\n",
    "def cases_equal(res1, res2):\n",
    "    return res1 == res2"
   ]
  },
  {
   "cell_type": "code",
   "execution_count": 4,
   "id": "9192a32a",
   "metadata": {},
   "outputs": [],
   "source": [
    "def is_unitary(m):\n",
    "    return np.allclose(np.eye(m.shape[0]), m.H * m)\n",
    "\n",
    "def check_symmetric(a, rtol=1e-05, atol=1e-08):\n",
    "    return np.allclose(a, a.T, rtol=rtol, atol=atol)\n",
    "\n",
    "def get_unitary():\n",
    "    matrix = []\n",
    "    Matrix = np.matrix([[1],[1]])\n",
    "    while not (is_unitary(Matrix) and check_symmetric(Matrix)):\n",
    "        \n",
    "        matrix = []\n",
    "        for i in range(4):\n",
    "            row = []\n",
    "            for j in range( 4):\n",
    "                row.append(0)\n",
    "            matrix.append(row)\n",
    "            \n",
    "        index = 0\n",
    "        for i in range(4):\n",
    "            for j in range(index, 4):\n",
    "                choice = [0, (1/np.sqrt(2)), 0.5, 1, np.sqrt(2)]\n",
    "                value = choice[random.randint(0, 4)]\n",
    "                matrix[i][j] = value\n",
    "                if i != j:\n",
    "                    matrix[j][i] = value\n",
    "            index = index + 1\n",
    "    return matrix"
   ]
  },
  {
   "cell_type": "code",
   "execution_count": 448,
   "id": "a27b1fe2",
   "metadata": {},
   "outputs": [
    {
     "data": {
      "text/latex": [
       "$\\displaystyle \\left[\\begin{matrix}0 & 0.5 & 0.5 & 1\\\\0.5 & 1 & 0.707106781186547 & 1.4142135623731\\\\0.5 & 0.707106781186547 & 1.4142135623731 & 0.707106781186547\\\\1 & 1.4142135623731 & 0.707106781186547 & 0.707106781186547\\end{matrix}\\right]$"
      ],
      "text/plain": [
       "Matrix([\n",
       "[  0,               0.5,               0.5,                 1],\n",
       "[0.5,                 1, 0.707106781186547,   1.4142135623731],\n",
       "[0.5, 0.707106781186547,   1.4142135623731, 0.707106781186547],\n",
       "[  1,   1.4142135623731, 0.707106781186547, 0.707106781186547]])"
      ]
     },
     "execution_count": 448,
     "metadata": {},
     "output_type": "execute_result"
    }
   ],
   "source": [
    "matrix = []\n",
    "for i in range(4):\n",
    "    row = []\n",
    "    for j in range( 4):\n",
    "        row.append(0)\n",
    "    matrix.append(row)\n",
    "\n",
    "index = 0\n",
    "for i in range(4):\n",
    "    for j in range(index, 4):\n",
    "        choice = [0, (1/np.sqrt(2)), 0.5, 1, np.sqrt(2)]\n",
    "        value = choice[random.randint(0, 4)]\n",
    "        matrix[i][j] = value\n",
    "        if i != j:\n",
    "            matrix[j][i] = value\n",
    "    index = index + 1\n",
    "    \n",
    "\n",
    "sp.Matrix(matrix)"
   ]
  },
  {
   "cell_type": "code",
   "execution_count": 455,
   "id": "7b2fed4d",
   "metadata": {},
   "outputs": [
    {
     "ename": "KeyboardInterrupt",
     "evalue": "",
     "output_type": "error",
     "traceback": [
      "\u001b[1;31m---------------------------------------------------------------------------\u001b[0m",
      "\u001b[1;31mKeyboardInterrupt\u001b[0m                         Traceback (most recent call last)",
      "\u001b[1;32m~\\AppData\\Local\\Temp/ipykernel_16816/2219878614.py\u001b[0m in \u001b[0;36m<module>\u001b[1;34m\u001b[0m\n\u001b[1;32m----> 1\u001b[1;33m \u001b[0mm\u001b[0m \u001b[1;33m=\u001b[0m \u001b[0mget_unitary\u001b[0m\u001b[1;33m(\u001b[0m\u001b[1;33m)\u001b[0m\u001b[1;33m\u001b[0m\u001b[1;33m\u001b[0m\u001b[0m\n\u001b[0m\u001b[0;32m      2\u001b[0m \u001b[0mK\u001b[0m \u001b[1;33m=\u001b[0m \u001b[0msp\u001b[0m\u001b[1;33m.\u001b[0m\u001b[0mMatrix\u001b[0m\u001b[1;33m(\u001b[0m\u001b[0mm\u001b[0m\u001b[1;33m)\u001b[0m\u001b[1;33m\u001b[0m\u001b[1;33m\u001b[0m\u001b[0m\n\u001b[0;32m      3\u001b[0m \u001b[0msp\u001b[0m\u001b[1;33m.\u001b[0m\u001b[0mMatrix\u001b[0m\u001b[1;33m(\u001b[0m\u001b[0mm\u001b[0m\u001b[1;33m)\u001b[0m\u001b[1;33m\u001b[0m\u001b[1;33m\u001b[0m\u001b[0m\n",
      "\u001b[1;32m~\\AppData\\Local\\Temp/ipykernel_16816/277422011.py\u001b[0m in \u001b[0;36mget_unitary\u001b[1;34m()\u001b[0m\n\u001b[0;32m      8\u001b[0m     \u001b[0mmatrix\u001b[0m \u001b[1;33m=\u001b[0m \u001b[1;33m[\u001b[0m\u001b[1;33m]\u001b[0m\u001b[1;33m\u001b[0m\u001b[1;33m\u001b[0m\u001b[0m\n\u001b[0;32m      9\u001b[0m     \u001b[0mMatrix\u001b[0m \u001b[1;33m=\u001b[0m \u001b[0mnp\u001b[0m\u001b[1;33m.\u001b[0m\u001b[0mmatrix\u001b[0m\u001b[1;33m(\u001b[0m\u001b[1;33m[\u001b[0m\u001b[1;33m[\u001b[0m\u001b[1;36m1\u001b[0m\u001b[1;33m]\u001b[0m\u001b[1;33m,\u001b[0m\u001b[1;33m[\u001b[0m\u001b[1;36m1\u001b[0m\u001b[1;33m]\u001b[0m\u001b[1;33m]\u001b[0m\u001b[1;33m)\u001b[0m\u001b[1;33m\u001b[0m\u001b[1;33m\u001b[0m\u001b[0m\n\u001b[1;32m---> 10\u001b[1;33m     \u001b[1;32mwhile\u001b[0m \u001b[1;32mnot\u001b[0m \u001b[1;33m(\u001b[0m\u001b[0mis_unitary\u001b[0m\u001b[1;33m(\u001b[0m\u001b[0mMatrix\u001b[0m\u001b[1;33m)\u001b[0m \u001b[1;32mand\u001b[0m \u001b[0mcheck_symmetric\u001b[0m\u001b[1;33m(\u001b[0m\u001b[0mMatrix\u001b[0m\u001b[1;33m)\u001b[0m\u001b[1;33m)\u001b[0m\u001b[1;33m:\u001b[0m\u001b[1;33m\u001b[0m\u001b[1;33m\u001b[0m\u001b[0m\n\u001b[0m\u001b[0;32m     11\u001b[0m \u001b[1;33m\u001b[0m\u001b[0m\n\u001b[0;32m     12\u001b[0m         \u001b[0mmatrix\u001b[0m \u001b[1;33m=\u001b[0m \u001b[1;33m[\u001b[0m\u001b[1;33m]\u001b[0m\u001b[1;33m\u001b[0m\u001b[1;33m\u001b[0m\u001b[0m\n",
      "\u001b[1;32m~\\AppData\\Local\\Temp/ipykernel_16816/277422011.py\u001b[0m in \u001b[0;36mis_unitary\u001b[1;34m(m)\u001b[0m\n\u001b[0;32m      1\u001b[0m \u001b[1;32mdef\u001b[0m \u001b[0mis_unitary\u001b[0m\u001b[1;33m(\u001b[0m\u001b[0mm\u001b[0m\u001b[1;33m)\u001b[0m\u001b[1;33m:\u001b[0m\u001b[1;33m\u001b[0m\u001b[1;33m\u001b[0m\u001b[0m\n\u001b[1;32m----> 2\u001b[1;33m     \u001b[1;32mreturn\u001b[0m \u001b[0mnp\u001b[0m\u001b[1;33m.\u001b[0m\u001b[0mallclose\u001b[0m\u001b[1;33m(\u001b[0m\u001b[0mnp\u001b[0m\u001b[1;33m.\u001b[0m\u001b[0meye\u001b[0m\u001b[1;33m(\u001b[0m\u001b[0mm\u001b[0m\u001b[1;33m.\u001b[0m\u001b[0mshape\u001b[0m\u001b[1;33m[\u001b[0m\u001b[1;36m0\u001b[0m\u001b[1;33m]\u001b[0m\u001b[1;33m)\u001b[0m\u001b[1;33m,\u001b[0m \u001b[0mm\u001b[0m\u001b[1;33m.\u001b[0m\u001b[0mH\u001b[0m \u001b[1;33m*\u001b[0m \u001b[0mm\u001b[0m\u001b[1;33m)\u001b[0m\u001b[1;33m\u001b[0m\u001b[1;33m\u001b[0m\u001b[0m\n\u001b[0m\u001b[0;32m      3\u001b[0m \u001b[1;33m\u001b[0m\u001b[0m\n\u001b[0;32m      4\u001b[0m \u001b[1;32mdef\u001b[0m \u001b[0mcheck_symmetric\u001b[0m\u001b[1;33m(\u001b[0m\u001b[0ma\u001b[0m\u001b[1;33m,\u001b[0m \u001b[0mrtol\u001b[0m\u001b[1;33m=\u001b[0m\u001b[1;36m1e-05\u001b[0m\u001b[1;33m,\u001b[0m \u001b[0matol\u001b[0m\u001b[1;33m=\u001b[0m\u001b[1;36m1e-08\u001b[0m\u001b[1;33m)\u001b[0m\u001b[1;33m:\u001b[0m\u001b[1;33m\u001b[0m\u001b[1;33m\u001b[0m\u001b[0m\n\u001b[0;32m      5\u001b[0m     \u001b[1;32mreturn\u001b[0m \u001b[0mnp\u001b[0m\u001b[1;33m.\u001b[0m\u001b[0mallclose\u001b[0m\u001b[1;33m(\u001b[0m\u001b[0ma\u001b[0m\u001b[1;33m,\u001b[0m \u001b[0ma\u001b[0m\u001b[1;33m.\u001b[0m\u001b[0mT\u001b[0m\u001b[1;33m,\u001b[0m \u001b[0mrtol\u001b[0m\u001b[1;33m=\u001b[0m\u001b[0mrtol\u001b[0m\u001b[1;33m,\u001b[0m \u001b[0matol\u001b[0m\u001b[1;33m=\u001b[0m\u001b[0matol\u001b[0m\u001b[1;33m)\u001b[0m\u001b[1;33m\u001b[0m\u001b[1;33m\u001b[0m\u001b[0m\n",
      "\u001b[1;32mD:\\Apps\\Anaconda\\lib\\site-packages\\numpy\\matrixlib\\defmatrix.py\u001b[0m in \u001b[0;36m__mul__\u001b[1;34m(self, other)\u001b[0m\n\u001b[0;32m    218\u001b[0m         \u001b[1;32mif\u001b[0m \u001b[0misinstance\u001b[0m\u001b[1;33m(\u001b[0m\u001b[0mother\u001b[0m\u001b[1;33m,\u001b[0m \u001b[1;33m(\u001b[0m\u001b[0mN\u001b[0m\u001b[1;33m.\u001b[0m\u001b[0mndarray\u001b[0m\u001b[1;33m,\u001b[0m \u001b[0mlist\u001b[0m\u001b[1;33m,\u001b[0m \u001b[0mtuple\u001b[0m\u001b[1;33m)\u001b[0m\u001b[1;33m)\u001b[0m \u001b[1;33m:\u001b[0m\u001b[1;33m\u001b[0m\u001b[1;33m\u001b[0m\u001b[0m\n\u001b[0;32m    219\u001b[0m             \u001b[1;31m# This promotes 1-D vectors to row vectors\u001b[0m\u001b[1;33m\u001b[0m\u001b[1;33m\u001b[0m\u001b[1;33m\u001b[0m\u001b[0m\n\u001b[1;32m--> 220\u001b[1;33m             \u001b[1;32mreturn\u001b[0m \u001b[0mN\u001b[0m\u001b[1;33m.\u001b[0m\u001b[0mdot\u001b[0m\u001b[1;33m(\u001b[0m\u001b[0mself\u001b[0m\u001b[1;33m,\u001b[0m \u001b[0masmatrix\u001b[0m\u001b[1;33m(\u001b[0m\u001b[0mother\u001b[0m\u001b[1;33m)\u001b[0m\u001b[1;33m)\u001b[0m\u001b[1;33m\u001b[0m\u001b[1;33m\u001b[0m\u001b[0m\n\u001b[0m\u001b[0;32m    221\u001b[0m         \u001b[1;32mif\u001b[0m \u001b[0misscalar\u001b[0m\u001b[1;33m(\u001b[0m\u001b[0mother\u001b[0m\u001b[1;33m)\u001b[0m \u001b[1;32mor\u001b[0m \u001b[1;32mnot\u001b[0m \u001b[0mhasattr\u001b[0m\u001b[1;33m(\u001b[0m\u001b[0mother\u001b[0m\u001b[1;33m,\u001b[0m \u001b[1;34m'__rmul__'\u001b[0m\u001b[1;33m)\u001b[0m \u001b[1;33m:\u001b[0m\u001b[1;33m\u001b[0m\u001b[1;33m\u001b[0m\u001b[0m\n\u001b[0;32m    222\u001b[0m             \u001b[1;32mreturn\u001b[0m \u001b[0mN\u001b[0m\u001b[1;33m.\u001b[0m\u001b[0mdot\u001b[0m\u001b[1;33m(\u001b[0m\u001b[0mself\u001b[0m\u001b[1;33m,\u001b[0m \u001b[0mother\u001b[0m\u001b[1;33m)\u001b[0m\u001b[1;33m\u001b[0m\u001b[1;33m\u001b[0m\u001b[0m\n",
      "\u001b[1;32m<__array_function__ internals>\u001b[0m in \u001b[0;36mdot\u001b[1;34m(*args, **kwargs)\u001b[0m\n",
      "\u001b[1;31mKeyboardInterrupt\u001b[0m: "
     ]
    }
   ],
   "source": [
    "m = get_unitary()\n",
    "K = sp.Matrix(m)\n",
    "sp.Matrix(m)"
   ]
  },
  {
   "cell_type": "code",
   "execution_count": null,
   "id": "054105b1",
   "metadata": {},
   "outputs": [],
   "source": [
    "K = sp.Matrix([[1, 0, 0, 0],\n",
    "              [0, 1, 0, 0],\n",
    "              [0, 0, 0, 1],\n",
    "              [0, 0, 1, 0]])\n",
    "\n",
    "while not cases_equal(case1(K, x1, x2, x3), case2(K, x1, x2, x3)):\n",
    "    m = get_unitary()\n",
    "    K = sp.Matrix(m)\n",
    "sp.Matrix(m)"
   ]
  },
  {
   "cell_type": "code",
   "execution_count": 9,
   "id": "a73ff485",
   "metadata": {},
   "outputs": [
    {
     "data": {
      "text/plain": [
       "False"
      ]
     },
     "execution_count": 9,
     "metadata": {},
     "output_type": "execute_result"
    }
   ],
   "source": [
    "# K = sp.Matrix([[0, 0, 1, 0],\n",
    "#               [0, 0, 0, 1],\n",
    "#               [1, 0, 0, 0],\n",
    "#               [0, 1, 0, 0]])\n",
    "cases_equal(case1(K, x1, x2, x3), case2(K, x1, x2, x3))"
   ]
  },
  {
   "cell_type": "code",
   "execution_count": 12,
   "id": "488ac80c",
   "metadata": {},
   "outputs": [],
   "source": [
    "res1 = case1(K, x1, x2, x3)"
   ]
  },
  {
   "cell_type": "code",
   "execution_count": 13,
   "id": "fbd0f749",
   "metadata": {},
   "outputs": [],
   "source": [
    "res2 = case2(K, x1, x2, x3)"
   ]
  },
  {
   "cell_type": "code",
   "execution_count": 19,
   "id": "861f60e6",
   "metadata": {},
   "outputs": [
    {
     "data": {
      "text/latex": [
       "$\\displaystyle x_{11} \\left(a_{1} a_{2} a_{3} x_{11} + a_{1} a_{2} b_{3} x_{12} + a_{1} a_{3} b_{2} x_{13} + a_{1} b_{2} b_{3} x_{14}\\right) + x_{12} \\left(a_{1} a_{2} a_{3} x_{31} + a_{1} a_{2} b_{3} x_{32} + a_{1} a_{3} b_{2} x_{33} + a_{1} b_{2} b_{3} x_{34}\\right) + x_{13} \\left(a_{2} a_{3} b_{1} x_{11} + a_{2} b_{1} b_{3} x_{12} + a_{3} b_{1} b_{2} x_{13} + b_{1} b_{2} b_{3} x_{14}\\right) + x_{14} \\left(a_{2} a_{3} b_{1} x_{31} + a_{2} b_{1} b_{3} x_{32} + a_{3} b_{1} b_{2} x_{33} + b_{1} b_{2} b_{3} x_{34}\\right)$"
      ],
      "text/plain": [
       "x11*(a1*a2*a3*x11 + a1*a2*b3*x12 + a1*a3*b2*x13 + a1*b2*b3*x14) + x12*(a1*a2*a3*x31 + a1*a2*b3*x32 + a1*a3*b2*x33 + a1*b2*b3*x34) + x13*(a2*a3*b1*x11 + a2*b1*b3*x12 + a3*b1*b2*x13 + b1*b2*b3*x14) + x14*(a2*a3*b1*x31 + a2*b1*b3*x32 + a3*b1*b2*x33 + b1*b2*b3*x34)"
      ]
     },
     "execution_count": 19,
     "metadata": {},
     "output_type": "execute_result"
    }
   ],
   "source": [
    "res1[0]"
   ]
  },
  {
   "cell_type": "code",
   "execution_count": 113,
   "id": "53ae0ced",
   "metadata": {},
   "outputs": [
    {
     "data": {
      "text/latex": [
       "$\\displaystyle x_{11} \\left(a_{1} a_{2} a_{3} x_{11} + a_{1} a_{3} b_{2} x_{12} + a_{2} a_{3} b_{1} x_{13} + a_{3} b_{1} b_{2} x_{14}\\right) + x_{12} \\left(a_{1} a_{2} b_{3} x_{11} + a_{1} b_{2} b_{3} x_{12} + a_{2} b_{1} b_{3} x_{13} + b_{1} b_{2} b_{3} x_{14}\\right) + x_{13} \\left(a_{1} a_{2} a_{3} x_{21} + a_{1} a_{3} b_{2} x_{22} + a_{2} a_{3} b_{1} x_{23} + a_{3} b_{1} b_{2} x_{24}\\right) + x_{14} \\left(a_{1} a_{2} b_{3} x_{21} + a_{1} b_{2} b_{3} x_{22} + a_{2} b_{1} b_{3} x_{23} + b_{1} b_{2} b_{3} x_{24}\\right)$"
      ],
      "text/plain": [
       "x11*(a1*a2*a3*x11 + a1*a3*b2*x12 + a2*a3*b1*x13 + a3*b1*b2*x14) + x12*(a1*a2*b3*x11 + a1*b2*b3*x12 + a2*b1*b3*x13 + b1*b2*b3*x14) + x13*(a1*a2*a3*x21 + a1*a3*b2*x22 + a2*a3*b1*x23 + a3*b1*b2*x24) + x14*(a1*a2*b3*x21 + a1*b2*b3*x22 + a2*b1*b3*x23 + b1*b2*b3*x24)"
      ]
     },
     "execution_count": 113,
     "metadata": {},
     "output_type": "execute_result"
    }
   ],
   "source": [
    "res2[0]"
   ]
  },
  {
   "cell_type": "code",
   "execution_count": 47,
   "id": "297907c7",
   "metadata": {},
   "outputs": [
    {
     "data": {
      "text/latex": [
       "$\\displaystyle x_{12} \\left(a_{1} a_{2} a_{3} x_{31} + a_{1} a_{2} b_{3} x_{32} + a_{1} a_{3} b_{2} x_{33} + a_{1} b_{2} b_{3} x_{34}\\right)$"
      ],
      "text/plain": [
       "x12*(a1*a2*a3*x31 + a1*a2*b3*x32 + a1*a3*b2*x33 + a1*b2*b3*x34)"
      ]
     },
     "execution_count": 47,
     "metadata": {},
     "output_type": "execute_result"
    }
   ],
   "source": [
    "res1[0].as_coeff_add()[1][1]"
   ]
  },
  {
   "cell_type": "code",
   "execution_count": 44,
   "id": "f4e27e6e",
   "metadata": {},
   "outputs": [
    {
     "data": {
      "text/latex": [
       "$\\displaystyle x_{11} \\left(a_{1} a_{2} a_{3} x_{11} + a_{1} a_{2} b_{3} x_{12} + a_{1} a_{3} b_{2} x_{13} + a_{1} b_{2} b_{3} x_{14}\\right)$"
      ],
      "text/plain": [
       "x11*(a1*a2*a3*x11 + a1*a2*b3*x12 + a1*a3*b2*x13 + a1*b2*b3*x14)"
      ]
     },
     "execution_count": 44,
     "metadata": {},
     "output_type": "execute_result"
    }
   ],
   "source": [
    "res1[0].as_coeff_add()[1][0]"
   ]
  },
  {
   "cell_type": "code",
   "execution_count": 33,
   "id": "e144ee1a",
   "metadata": {},
   "outputs": [
    {
     "data": {
      "text/latex": [
       "$\\displaystyle a_{1} a_{2} a_{3} x_{11} + a_{1} a_{2} b_{3} x_{12} + a_{1} a_{3} b_{2} x_{13} + a_{1} b_{2} b_{3} x_{14}$"
      ],
      "text/plain": [
       "a1*a2*a3*x11 + a1*a2*b3*x12 + a1*a3*b2*x13 + a1*b2*b3*x14"
      ]
     },
     "execution_count": 33,
     "metadata": {},
     "output_type": "execute_result"
    }
   ],
   "source": [
    "res1[0].as_coeff_add()[1][0].as_two_terms()[1]"
   ]
  },
  {
   "cell_type": "code",
   "execution_count": 138,
   "id": "546d7c82",
   "metadata": {},
   "outputs": [
    {
     "data": {
      "text/latex": [
       "$\\displaystyle \\left[\\begin{matrix}a_{1} a_{2} a_{3} x_{21} x_{41} & a_{1} a_{2} a_{3} x_{41} x_{42} & a_{2} a_{3} b_{1} x_{21} x_{43} & a_{2} a_{3} b_{1} x_{41} x_{44}\\\\a_{1} a_{2} b_{3} x_{22} x_{41} & a_{1} a_{2} b_{3} x_{42}^{2} & a_{2} b_{1} b_{3} x_{22} x_{43} & a_{2} b_{1} b_{3} x_{42} x_{44}\\\\a_{1} a_{3} b_{2} x_{23} x_{41} & a_{1} a_{3} b_{2} x_{42} x_{43} & a_{3} b_{1} b_{2} x_{23} x_{43} & a_{3} b_{1} b_{2} x_{43} x_{44}\\\\a_{1} b_{2} b_{3} x_{24} x_{41} & a_{1} b_{2} b_{3} x_{42} x_{44} & b_{1} b_{2} b_{3} x_{24} x_{43} & b_{1} b_{2} b_{3} x_{44}^{2}\\end{matrix}\\right]$"
      ],
      "text/plain": [
       "Matrix([\n",
       "[a1*a2*a3*x21*x41, a1*a2*a3*x41*x42, a2*a3*b1*x21*x43, a2*a3*b1*x41*x44],\n",
       "[a1*a2*b3*x22*x41,  a1*a2*b3*x42**2, a2*b1*b3*x22*x43, a2*b1*b3*x42*x44],\n",
       "[a1*a3*b2*x23*x41, a1*a3*b2*x42*x43, a3*b1*b2*x23*x43, a3*b1*b2*x43*x44],\n",
       "[a1*b2*b3*x24*x41, a1*b2*b3*x42*x44, b1*b2*b3*x24*x43,  b1*b2*b3*x44**2]])"
      ]
     },
     "execution_count": 138,
     "metadata": {},
     "output_type": "execute_result"
    }
   ],
   "source": [
    "res1 = case1(K, x1, x2, x3)\n",
    "matrix1 = []\n",
    "for i in range(4):\n",
    "    row_line = []\n",
    "    for j in range(4):\n",
    "        row = res1[7].as_coeff_add()[1][i]\n",
    "        element = row.as_two_terms()[1].as_coeff_add()[1][j]*row.as_two_terms()[0]\n",
    "        row_line.append(element)\n",
    "    matrix1.append(row_line)\n",
    "matrix1 = sp.Matrix(matrix1).T\n",
    "matrix1"
   ]
  },
  {
   "cell_type": "code",
   "execution_count": 139,
   "id": "b4674fc8",
   "metadata": {},
   "outputs": [
    {
     "data": {
      "text/latex": [
       "$\\displaystyle \\left[\\begin{matrix}a_{1} a_{2} a_{3} x_{31} x_{41} & a_{1} a_{2} a_{3} x_{41} x_{43} & a_{2} a_{3} b_{1} x_{33} x_{41} & a_{2} a_{3} b_{1} x_{43}^{2}\\\\a_{1} a_{2} b_{3} x_{31} x_{42} & a_{1} a_{2} b_{3} x_{41} x_{44} & a_{2} b_{1} b_{3} x_{33} x_{42} & a_{2} b_{1} b_{3} x_{43} x_{44}\\\\a_{1} a_{3} b_{2} x_{32} x_{41} & a_{1} a_{3} b_{2} x_{42} x_{43} & a_{3} b_{1} b_{2} x_{34} x_{41} & a_{3} b_{1} b_{2} x_{43} x_{44}\\\\a_{1} b_{2} b_{3} x_{32} x_{42} & a_{1} b_{2} b_{3} x_{42} x_{44} & b_{1} b_{2} b_{3} x_{34} x_{42} & b_{1} b_{2} b_{3} x_{44}^{2}\\end{matrix}\\right]$"
      ],
      "text/plain": [
       "Matrix([\n",
       "[a1*a2*a3*x31*x41, a1*a2*a3*x41*x43, a2*a3*b1*x33*x41,  a2*a3*b1*x43**2],\n",
       "[a1*a2*b3*x31*x42, a1*a2*b3*x41*x44, a2*b1*b3*x33*x42, a2*b1*b3*x43*x44],\n",
       "[a1*a3*b2*x32*x41, a1*a3*b2*x42*x43, a3*b1*b2*x34*x41, a3*b1*b2*x43*x44],\n",
       "[a1*b2*b3*x32*x42, a1*b2*b3*x42*x44, b1*b2*b3*x34*x42,  b1*b2*b3*x44**2]])"
      ]
     },
     "execution_count": 139,
     "metadata": {},
     "output_type": "execute_result"
    }
   ],
   "source": [
    "res2 = case2(K, x1, x2, x3)\n",
    "matrix2 = []\n",
    "for i in range(4):\n",
    "    row_line = []\n",
    "    for j in range(4):\n",
    "        row = res2[7].as_coeff_add()[1][i]\n",
    "        element = row.as_two_terms()[1].as_coeff_add()[1][j]*row.as_two_terms()[0]\n",
    "        row_line.append(element)\n",
    "    matrix2.append(row_line)\n",
    "\n",
    "tmp = matrix2[0][1]\n",
    "matrix2[0][1] = matrix2[2][0]\n",
    "matrix2[2][0] = tmp\n",
    "\n",
    "tmp = matrix2[1][1]\n",
    "matrix2[1][1] = matrix2[3][0]\n",
    "matrix2[3][0] = tmp\n",
    "\n",
    "tmp = matrix2[0][3]\n",
    "matrix2[0][3] = matrix2[2][2]\n",
    "matrix2[2][2] = tmp\n",
    "\n",
    "tmp = matrix2[1][3]\n",
    "matrix2[1][3] = matrix2[3][2]\n",
    "matrix2[3][2] = tmp\n",
    "\n",
    "sp.Matrix(matrix2)"
   ]
  },
  {
   "cell_type": "code",
   "execution_count": 140,
   "id": "89c3a6cc",
   "metadata": {},
   "outputs": [
    {
     "data": {
      "text/latex": [
       "$\\displaystyle \\left[\\begin{matrix}a_{1} a_{2} a_{3} x_{41} \\left(x_{31} + x_{43}\\right)\\\\a_{2} a_{3} b_{1} \\left(x_{33} x_{41} + x_{43}^{2}\\right)\\\\a_{1} a_{2} b_{3} \\left(x_{31} x_{42} + x_{41} x_{44}\\right)\\\\a_{2} b_{1} b_{3} \\left(x_{33} x_{42} + x_{43} x_{44}\\right)\\\\a_{1} a_{3} b_{2} \\left(x_{32} x_{41} + x_{42} x_{43}\\right)\\\\a_{3} b_{1} b_{2} \\left(x_{34} x_{41} + x_{43} x_{44}\\right)\\\\a_{1} b_{2} b_{3} x_{42} \\left(x_{32} + x_{44}\\right)\\\\b_{1} b_{2} b_{3} \\left(x_{34} x_{42} + x_{44}^{2}\\right)\\end{matrix}\\right]$"
      ],
      "text/plain": [
       "Matrix([\n",
       "[    a1*a2*a3*x41*(x31 + x43)],\n",
       "[ a2*a3*b1*(x33*x41 + x43**2)],\n",
       "[a1*a2*b3*(x31*x42 + x41*x44)],\n",
       "[a2*b1*b3*(x33*x42 + x43*x44)],\n",
       "[a1*a3*b2*(x32*x41 + x42*x43)],\n",
       "[a3*b1*b2*(x34*x41 + x43*x44)],\n",
       "[    a1*b2*b3*x42*(x32 + x44)],\n",
       "[ b1*b2*b3*(x34*x42 + x44**2)]])"
      ]
     },
     "execution_count": 140,
     "metadata": {},
     "output_type": "execute_result"
    }
   ],
   "source": [
    "j = 0\n",
    "i = 0\n",
    "matrix_X2 = []\n",
    "for _ in range(4):\n",
    "    j = 0\n",
    "    for _ in range(2):\n",
    "        m = matrix2[i][j] + matrix2[i][j+1]\n",
    "        m = m.factor()\n",
    "        matrix_X2.append(m)\n",
    "        j = j + 2\n",
    "    i = i + 1\n",
    "sp.Matrix(matrix_X2)"
   ]
  },
  {
   "cell_type": "code",
   "execution_count": 141,
   "id": "a75afee4",
   "metadata": {},
   "outputs": [
    {
     "data": {
      "text/latex": [
       "$\\displaystyle \\left[\\begin{matrix}a_{1} a_{2} a_{3} x_{41} \\left(x_{21} + x_{42}\\right)\\\\a_{2} a_{3} b_{1} \\left(x_{21} x_{43} + x_{41} x_{44}\\right)\\\\a_{1} a_{2} b_{3} \\left(x_{22} x_{41} + x_{42}^{2}\\right)\\\\a_{2} b_{1} b_{3} \\left(x_{22} x_{43} + x_{42} x_{44}\\right)\\\\a_{1} a_{3} b_{2} \\left(x_{23} x_{41} + x_{42} x_{43}\\right)\\\\a_{3} b_{1} b_{2} x_{43} \\left(x_{23} + x_{44}\\right)\\\\a_{1} b_{2} b_{3} \\left(x_{24} x_{41} + x_{42} x_{44}\\right)\\\\b_{1} b_{2} b_{3} \\left(x_{24} x_{43} + x_{44}^{2}\\right)\\end{matrix}\\right]$"
      ],
      "text/plain": [
       "Matrix([\n",
       "[    a1*a2*a3*x41*(x21 + x42)],\n",
       "[a2*a3*b1*(x21*x43 + x41*x44)],\n",
       "[ a1*a2*b3*(x22*x41 + x42**2)],\n",
       "[a2*b1*b3*(x22*x43 + x42*x44)],\n",
       "[a1*a3*b2*(x23*x41 + x42*x43)],\n",
       "[    a3*b1*b2*x43*(x23 + x44)],\n",
       "[a1*b2*b3*(x24*x41 + x42*x44)],\n",
       "[ b1*b2*b3*(x24*x43 + x44**2)]])"
      ]
     },
     "execution_count": 141,
     "metadata": {},
     "output_type": "execute_result"
    }
   ],
   "source": [
    "j = 0\n",
    "i = 0\n",
    "matrix_X1 = []\n",
    "for _ in range(4):\n",
    "    j = 0\n",
    "    for _ in range(2):\n",
    "        m = matrix1[i,j] + matrix1[i,j+1]\n",
    "        m = m.factor()\n",
    "        matrix_X1.append(m)\n",
    "        j = j + 2\n",
    "    i = i + 1\n",
    "sp.Matrix(matrix_X1)"
   ]
  },
  {
   "cell_type": "code",
   "execution_count": 84,
   "id": "199b479d",
   "metadata": {},
   "outputs": [
    {
     "data": {
      "text/plain": [
       "(a1, a2*a3*(x11**2 + x13*x21))"
      ]
     },
     "execution_count": 84,
     "metadata": {},
     "output_type": "execute_result"
    }
   ],
   "source": [
    "m.as_two_terms()"
   ]
  },
  {
   "cell_type": "code",
   "execution_count": 15,
   "id": "c4d96596",
   "metadata": {},
   "outputs": [
    {
     "data": {
      "text/latex": [
       "$\\displaystyle x_{11} \\left(a_{1} a_{2} a_{3} x_{11} + a_{1} a_{3} b_{2} x_{12} + a_{2} a_{3} b_{1} x_{13} + a_{3} b_{1} b_{2} x_{14}\\right) + x_{12} \\left(a_{1} a_{2} b_{3} x_{11} + a_{1} b_{2} b_{3} x_{12} + a_{2} b_{1} b_{3} x_{13} + b_{1} b_{2} b_{3} x_{14}\\right) + x_{13} \\left(a_{1} a_{2} a_{3} x_{21} + a_{1} a_{3} b_{2} x_{22} + a_{2} a_{3} b_{1} x_{23} + a_{3} b_{1} b_{2} x_{24}\\right) + x_{14} \\left(a_{1} a_{2} b_{3} x_{21} + a_{1} b_{2} b_{3} x_{22} + a_{2} b_{1} b_{3} x_{23} + b_{1} b_{2} b_{3} x_{24}\\right)$"
      ],
      "text/plain": [
       "x11*(a1*a2*a3*x11 + a1*a3*b2*x12 + a2*a3*b1*x13 + a3*b1*b2*x14) + x12*(a1*a2*b3*x11 + a1*b2*b3*x12 + a2*b1*b3*x13 + b1*b2*b3*x14) + x13*(a1*a2*a3*x21 + a1*a3*b2*x22 + a2*a3*b1*x23 + a3*b1*b2*x24) + x14*(a1*a2*b3*x21 + a1*b2*b3*x22 + a2*b1*b3*x23 + b1*b2*b3*x24)"
      ]
     },
     "execution_count": 15,
     "metadata": {},
     "output_type": "execute_result"
    }
   ],
   "source": [
    "res2[0]"
   ]
  },
  {
   "cell_type": "code",
   "execution_count": 270,
   "id": "4a4e4cb3",
   "metadata": {},
   "outputs": [
    {
     "data": {
      "text/latex": [
       "$\\displaystyle x_{11} \\left(a_{1} a_{2} a_{3} x_{21} + a_{1} a_{2} b_{3} x_{22} + a_{1} a_{3} b_{2} x_{23} + a_{1} b_{2} b_{3} x_{24}\\right) + x_{12} \\left(a_{1} a_{2} a_{3} x_{41} + a_{1} a_{2} b_{3} x_{42} + a_{1} a_{3} b_{2} x_{43} + a_{1} b_{2} b_{3} x_{44}\\right) + x_{13} \\left(a_{2} a_{3} b_{1} x_{21} + a_{2} b_{1} b_{3} x_{22} + a_{3} b_{1} b_{2} x_{23} + b_{1} b_{2} b_{3} x_{24}\\right) + x_{14} \\left(a_{2} a_{3} b_{1} x_{41} + a_{2} b_{1} b_{3} x_{42} + a_{3} b_{1} b_{2} x_{43} + b_{1} b_{2} b_{3} x_{44}\\right)$"
      ],
      "text/plain": [
       "x11*(a1*a2*a3*x21 + a1*a2*b3*x22 + a1*a3*b2*x23 + a1*b2*b3*x24) + x12*(a1*a2*a3*x41 + a1*a2*b3*x42 + a1*a3*b2*x43 + a1*b2*b3*x44) + x13*(a2*a3*b1*x21 + a2*b1*b3*x22 + a3*b1*b2*x23 + b1*b2*b3*x24) + x14*(a2*a3*b1*x41 + a2*b1*b3*x42 + a3*b1*b2*x43 + b1*b2*b3*x44)"
      ]
     },
     "execution_count": 270,
     "metadata": {},
     "output_type": "execute_result"
    }
   ],
   "source": [
    "res1[1]"
   ]
  },
  {
   "cell_type": "code",
   "execution_count": 271,
   "id": "4a8cabcd",
   "metadata": {},
   "outputs": [
    {
     "data": {
      "text/latex": [
       "$\\displaystyle x_{21} \\left(a_{1} a_{2} a_{3} x_{11} + a_{1} a_{3} b_{2} x_{12} + a_{2} a_{3} b_{1} x_{13} + a_{3} b_{1} b_{2} x_{14}\\right) + x_{22} \\left(a_{1} a_{2} b_{3} x_{11} + a_{1} b_{2} b_{3} x_{12} + a_{2} b_{1} b_{3} x_{13} + b_{1} b_{2} b_{3} x_{14}\\right) + x_{23} \\left(a_{1} a_{2} a_{3} x_{21} + a_{1} a_{3} b_{2} x_{22} + a_{2} a_{3} b_{1} x_{23} + a_{3} b_{1} b_{2} x_{24}\\right) + x_{24} \\left(a_{1} a_{2} b_{3} x_{21} + a_{1} b_{2} b_{3} x_{22} + a_{2} b_{1} b_{3} x_{23} + b_{1} b_{2} b_{3} x_{24}\\right)$"
      ],
      "text/plain": [
       "x21*(a1*a2*a3*x11 + a1*a3*b2*x12 + a2*a3*b1*x13 + a3*b1*b2*x14) + x22*(a1*a2*b3*x11 + a1*b2*b3*x12 + a2*b1*b3*x13 + b1*b2*b3*x14) + x23*(a1*a2*a3*x21 + a1*a3*b2*x22 + a2*a3*b1*x23 + a3*b1*b2*x24) + x24*(a1*a2*b3*x21 + a1*b2*b3*x22 + a2*b1*b3*x23 + b1*b2*b3*x24)"
      ]
     },
     "execution_count": 271,
     "metadata": {},
     "output_type": "execute_result"
    }
   ],
   "source": [
    "res2[1]"
   ]
  },
  {
   "cell_type": "code",
   "execution_count": 272,
   "id": "d56194ae",
   "metadata": {},
   "outputs": [
    {
     "data": {
      "text/latex": [
       "$\\displaystyle x_{21} \\left(a_{1} a_{2} a_{3} x_{11} + a_{1} a_{2} b_{3} x_{12} + a_{1} a_{3} b_{2} x_{13} + a_{1} b_{2} b_{3} x_{14}\\right) + x_{22} \\left(a_{1} a_{2} a_{3} x_{31} + a_{1} a_{2} b_{3} x_{32} + a_{1} a_{3} b_{2} x_{33} + a_{1} b_{2} b_{3} x_{34}\\right) + x_{23} \\left(a_{2} a_{3} b_{1} x_{11} + a_{2} b_{1} b_{3} x_{12} + a_{3} b_{1} b_{2} x_{13} + b_{1} b_{2} b_{3} x_{14}\\right) + x_{24} \\left(a_{2} a_{3} b_{1} x_{31} + a_{2} b_{1} b_{3} x_{32} + a_{3} b_{1} b_{2} x_{33} + b_{1} b_{2} b_{3} x_{34}\\right)$"
      ],
      "text/plain": [
       "x21*(a1*a2*a3*x11 + a1*a2*b3*x12 + a1*a3*b2*x13 + a1*b2*b3*x14) + x22*(a1*a2*a3*x31 + a1*a2*b3*x32 + a1*a3*b2*x33 + a1*b2*b3*x34) + x23*(a2*a3*b1*x11 + a2*b1*b3*x12 + a3*b1*b2*x13 + b1*b2*b3*x14) + x24*(a2*a3*b1*x31 + a2*b1*b3*x32 + a3*b1*b2*x33 + b1*b2*b3*x34)"
      ]
     },
     "execution_count": 272,
     "metadata": {},
     "output_type": "execute_result"
    }
   ],
   "source": [
    "res1[2]"
   ]
  },
  {
   "cell_type": "code",
   "execution_count": 273,
   "id": "1d635e57",
   "metadata": {},
   "outputs": [
    {
     "data": {
      "text/latex": [
       "$\\displaystyle x_{31} \\left(a_{1} a_{2} a_{3} x_{11} + a_{1} a_{3} b_{2} x_{12} + a_{2} a_{3} b_{1} x_{13} + a_{3} b_{1} b_{2} x_{14}\\right) + x_{32} \\left(a_{1} a_{2} b_{3} x_{11} + a_{1} b_{2} b_{3} x_{12} + a_{2} b_{1} b_{3} x_{13} + b_{1} b_{2} b_{3} x_{14}\\right) + x_{33} \\left(a_{1} a_{2} a_{3} x_{21} + a_{1} a_{3} b_{2} x_{22} + a_{2} a_{3} b_{1} x_{23} + a_{3} b_{1} b_{2} x_{24}\\right) + x_{34} \\left(a_{1} a_{2} b_{3} x_{21} + a_{1} b_{2} b_{3} x_{22} + a_{2} b_{1} b_{3} x_{23} + b_{1} b_{2} b_{3} x_{24}\\right)$"
      ],
      "text/plain": [
       "x31*(a1*a2*a3*x11 + a1*a3*b2*x12 + a2*a3*b1*x13 + a3*b1*b2*x14) + x32*(a1*a2*b3*x11 + a1*b2*b3*x12 + a2*b1*b3*x13 + b1*b2*b3*x14) + x33*(a1*a2*a3*x21 + a1*a3*b2*x22 + a2*a3*b1*x23 + a3*b1*b2*x24) + x34*(a1*a2*b3*x21 + a1*b2*b3*x22 + a2*b1*b3*x23 + b1*b2*b3*x24)"
      ]
     },
     "execution_count": 273,
     "metadata": {},
     "output_type": "execute_result"
    }
   ],
   "source": [
    "res2[2]"
   ]
  },
  {
   "cell_type": "code",
   "execution_count": 396,
   "id": "daa4d7fb",
   "metadata": {},
   "outputs": [
    {
     "data": {
      "text/plain": [
       "Instruction(name='unitary', num_qubits=2, num_clbits=0, params=[array([[0.+0.j, 0.+0.j, 1.+0.j, 0.+0.j],\n",
       "       [0.+0.j, 0.+0.j, 0.+0.j, 1.+0.j],\n",
       "       [1.+0.j, 0.+0.j, 0.+0.j, 0.+0.j],\n",
       "       [0.+0.j, 1.+0.j, 0.+0.j, 0.+0.j]])])"
      ]
     },
     "execution_count": 396,
     "metadata": {},
     "output_type": "execute_result"
    }
   ],
   "source": [
    "# matrix = []\n",
    "# for i in range(8):\n",
    "#     row = []\n",
    "#     for j in range(8):\n",
    "#         if i != j:\n",
    "#             row.append(0)\n",
    "#         else:\n",
    "#             row.append(np.exp(pi*2j*(1/4)))\n",
    "#     matrix.append(row)\n",
    "\n",
    "matrix = [[0, 0, 1, 0],\n",
    "              [0, 0, 0, 1],\n",
    "              [1, 0, 0, 0],\n",
    "              [0, 1, 0, 0]]\n",
    "       \n",
    "K = UnitaryGate(Operator(matrix), label=\"K\")\n",
    "K \n",
    "\n",
    "\n",
    "# K = UnitaryGate(\n",
    "#     Operator([[1,0,0,0,0,0,0,1],\n",
    "#               [0,1,0,0,0,0,0,0],\n",
    "#               [0,0,1,0,0,0,0,0],\n",
    "#               [0,0,0,1,0,0,0,0],\n",
    "#               [0,0,0,0,1,0,0,0],\n",
    "#               [0,0,0,0,0,1,0,0],\n",
    "#               [0,0,0,0,0,0,1,0],\n",
    "#               [1,0,0,0,0,0,0,1]]), label=\"K\")"
   ]
  },
  {
   "cell_type": "code",
   "execution_count": 397,
   "id": "01f95439",
   "metadata": {},
   "outputs": [
    {
     "data": {
      "text/html": [
       "<pre style=\"word-wrap: normal;white-space: pre;background: #fff0;line-height: 1.1;font-family: &quot;Courier New&quot;,Courier,monospace\">        ┌───┐┌────┐       ░ ┌─┐      \n",
       "q246_0: ┤ X ├┤0   ├───────░─┤M├──────\n",
       "        ├───┤│  K │┌────┐ ░ └╥┘┌─┐   \n",
       "q246_1: ┤ X ├┤1   ├┤0   ├─░──╫─┤M├───\n",
       "        └───┘└────┘│  K │ ░  ║ └╥┘┌─┐\n",
       "q246_2: ───────────┤1   ├─░──╫──╫─┤M├\n",
       "                   └────┘ ░  ║  ║ └╥┘\n",
       " c75_0: ═════════════════════╩══╬══╬═\n",
       "                                ║  ║ \n",
       " c75_1: ════════════════════════╩══╬═\n",
       "                                   ║ \n",
       " c75_2: ═══════════════════════════╩═\n",
       "                                     </pre>"
      ],
      "text/plain": [
       "        ┌───┐┌────┐       ░ ┌─┐      \n",
       "q246_0: ┤ X ├┤0   ├───────░─┤M├──────\n",
       "        ├───┤│  K │┌────┐ ░ └╥┘┌─┐   \n",
       "q246_1: ┤ X ├┤1   ├┤0   ├─░──╫─┤M├───\n",
       "        └───┘└────┘│  K │ ░  ║ └╥┘┌─┐\n",
       "q246_2: ───────────┤1   ├─░──╫──╫─┤M├\n",
       "                   └────┘ ░  ║  ║ └╥┘\n",
       " c75_0: ═════════════════════╩══╬══╬═\n",
       "                                ║  ║ \n",
       " c75_1: ════════════════════════╩══╬═\n",
       "                                   ║ \n",
       " c75_2: ═══════════════════════════╩═\n",
       "                                     "
      ]
     },
     "execution_count": 397,
     "metadata": {},
     "output_type": "execute_result"
    }
   ],
   "source": [
    "n = 2\n",
    "q = QuantumRegister(2*n-1)  \n",
    "c = ClassicalRegister(2*n-1) \n",
    "qc = QuantumCircuit(q,c) \n",
    "\n",
    "qc.x(q[0])\n",
    "qc.x(q[1])\n",
    "\n",
    "qc.append(K, [q[0], q[1]])\n",
    "qc.append(K, [q[1], q[2]])\n",
    "\n",
    "qc.barrier()\n",
    "qc.measure(q, c)\n",
    "qc.draw()\n"
   ]
  },
  {
   "cell_type": "code",
   "execution_count": 398,
   "id": "9db90892",
   "metadata": {},
   "outputs": [
    {
     "data": {
      "text/plain": [
       "{'101': 1024}"
      ]
     },
     "execution_count": 398,
     "metadata": {},
     "output_type": "execute_result"
    }
   ],
   "source": [
    "backend = BasicAer.get_backend('qasm_simulator')\n",
    "job = execute(qc, backend, shots=1024)\n",
    "res = dict(job.result().get_counts(qc))\n",
    "res"
   ]
  },
  {
   "cell_type": "code",
   "execution_count": 399,
   "id": "9e623e86",
   "metadata": {},
   "outputs": [
    {
     "data": {
      "text/html": [
       "<pre style=\"word-wrap: normal;white-space: pre;background: #fff0;line-height: 1.1;font-family: &quot;Courier New&quot;,Courier,monospace\">        ┌───┐      ┌────┐ ░ ┌─┐      \n",
       "q251_0: ┤ X ├──────┤0   ├─░─┤M├──────\n",
       "        ├───┤┌────┐│  K │ ░ └╥┘┌─┐   \n",
       "q251_1: ┤ X ├┤0   ├┤1   ├─░──╫─┤M├───\n",
       "        └───┘│  K │└────┘ ░  ║ └╥┘┌─┐\n",
       "q251_2: ─────┤1   ├───────░──╫──╫─┤M├\n",
       "             └────┘       ░  ║  ║ └╥┘\n",
       " c76_0: ═════════════════════╩══╬══╬═\n",
       "                                ║  ║ \n",
       " c76_1: ════════════════════════╩══╬═\n",
       "                                   ║ \n",
       " c76_2: ═══════════════════════════╩═\n",
       "                                     </pre>"
      ],
      "text/plain": [
       "        ┌───┐      ┌────┐ ░ ┌─┐      \n",
       "q251_0: ┤ X ├──────┤0   ├─░─┤M├──────\n",
       "        ├───┤┌────┐│  K │ ░ └╥┘┌─┐   \n",
       "q251_1: ┤ X ├┤0   ├┤1   ├─░──╫─┤M├───\n",
       "        └───┘│  K │└────┘ ░  ║ └╥┘┌─┐\n",
       "q251_2: ─────┤1   ├───────░──╫──╫─┤M├\n",
       "             └────┘       ░  ║  ║ └╥┘\n",
       " c76_0: ═════════════════════╩══╬══╬═\n",
       "                                ║  ║ \n",
       " c76_1: ════════════════════════╩══╬═\n",
       "                                   ║ \n",
       " c76_2: ═══════════════════════════╩═\n",
       "                                     "
      ]
     },
     "execution_count": 399,
     "metadata": {},
     "output_type": "execute_result"
    }
   ],
   "source": [
    "n = 2\n",
    "q = QuantumRegister(2*n-1)  \n",
    "c = ClassicalRegister(2*n-1) \n",
    "qc = QuantumCircuit(q,c) \n",
    "\n",
    "qc.x(q[0])\n",
    "qc.x(q[1])\n",
    "\n",
    "qc.append(K, [q[1], q[2]])\n",
    "qc.append(K, [q[0], q[1]])\n",
    "\n",
    "qc.barrier()\n",
    "qc.measure(q, c)\n",
    "qc.draw()"
   ]
  },
  {
   "cell_type": "code",
   "execution_count": 400,
   "id": "34858665",
   "metadata": {},
   "outputs": [
    {
     "data": {
      "text/plain": [
       "{'101': 1024}"
      ]
     },
     "execution_count": 400,
     "metadata": {},
     "output_type": "execute_result"
    }
   ],
   "source": [
    "backend = BasicAer.get_backend('qasm_simulator')\n",
    "job = execute(qc, backend, shots=1024)\n",
    "res = dict(job.result().get_counts(qc))\n",
    "res"
   ]
  },
  {
   "cell_type": "code",
   "execution_count": 204,
   "id": "72606a60",
   "metadata": {},
   "outputs": [
    {
     "data": {
      "text/plain": [
       "Instruction(name='unitary', num_qubits=2, num_clbits=0, params=[array([[6.123234e-17+1.j, 0.000000e+00+0.j, 0.000000e+00+0.j,\n",
       "        0.000000e+00+0.j],\n",
       "       [0.000000e+00+0.j, 6.123234e-17+1.j, 0.000000e+00+0.j,\n",
       "        0.000000e+00+0.j],\n",
       "       [0.000000e+00+0.j, 0.000000e+00+0.j, 6.123234e-17+1.j,\n",
       "        0.000000e+00+0.j],\n",
       "       [0.000000e+00+0.j, 0.000000e+00+0.j, 0.000000e+00+0.j,\n",
       "        6.123234e-17+1.j]])])"
      ]
     },
     "execution_count": 204,
     "metadata": {},
     "output_type": "execute_result"
    }
   ],
   "source": [
    "matrix = []\n",
    "for i in range(4):\n",
    "    row = []\n",
    "    for j in range(4):\n",
    "        if i != j:\n",
    "            row.append(0)\n",
    "        else:\n",
    "            row.append(np.exp(pi*2j*(1/4)))\n",
    "    matrix.append(row)\n",
    "\n",
    "matrix\n",
    "        \n",
    "K = UnitaryGate(Operator(matrix), label=\"K\")\n",
    "K "
   ]
  },
  {
   "cell_type": "code",
   "execution_count": 203,
   "id": "a413d3e6",
   "metadata": {},
   "outputs": [
    {
     "name": "stdout",
     "output_type": "stream",
     "text": [
      "(6.123234e-17+1j)\n"
     ]
    }
   ],
   "source": [
    "x = np.exp(pi*2j*(1/4))\n",
    "print(np.csingle(x))"
   ]
  },
  {
   "cell_type": "code",
   "execution_count": 210,
   "id": "fef98986",
   "metadata": {},
   "outputs": [
    {
     "data": {
      "text/html": [
       "<pre style=\"word-wrap: normal;white-space: pre;background: #fff0;line-height: 1.1;font-family: &quot;Courier New&quot;,Courier,monospace\">        ┌───┐ ░ ┌─┐      \n",
       "q220_0: ┤ X ├─░─┤M├──────\n",
       "        └───┘ ░ └╥┘┌─┐   \n",
       "q220_1: ──────░──╫─┤M├───\n",
       "              ░  ║ └╥┘┌─┐\n",
       "q220_2: ──────░──╫──╫─┤M├\n",
       "              ░  ║  ║ └╥┘\n",
       " c68_0: ═════════╩══╬══╬═\n",
       "                    ║  ║ \n",
       " c68_1: ════════════╩══╬═\n",
       "                       ║ \n",
       " c68_2: ═══════════════╩═\n",
       "                         </pre>"
      ],
      "text/plain": [
       "        ┌───┐ ░ ┌─┐      \n",
       "q220_0: ┤ X ├─░─┤M├──────\n",
       "        └───┘ ░ └╥┘┌─┐   \n",
       "q220_1: ──────░──╫─┤M├───\n",
       "              ░  ║ └╥┘┌─┐\n",
       "q220_2: ──────░──╫──╫─┤M├\n",
       "              ░  ║  ║ └╥┘\n",
       " c68_0: ═════════╩══╬══╬═\n",
       "                    ║  ║ \n",
       " c68_1: ════════════╩══╬═\n",
       "                       ║ \n",
       " c68_2: ═══════════════╩═\n",
       "                         "
      ]
     },
     "execution_count": 210,
     "metadata": {},
     "output_type": "execute_result"
    }
   ],
   "source": [
    "n = 3\n",
    "q = QuantumRegister(3)  \n",
    "c = ClassicalRegister(3) \n",
    "qc = QuantumCircuit(q,c) \n",
    "\n",
    "qc.x(q[0])\n",
    "\n",
    "qc.append(K, [q[0], q[1]])\n",
    "qc.append(K, [q[0], q[1]])\n",
    "\n",
    "qc.barrier()\n",
    "qc.measure(q, c)\n",
    "qc.draw()\n"
   ]
  },
  {
   "cell_type": "code",
   "execution_count": 211,
   "id": "9a291162",
   "metadata": {},
   "outputs": [
    {
     "data": {
      "text/plain": [
       "{'001': 1024}"
      ]
     },
     "execution_count": 211,
     "metadata": {},
     "output_type": "execute_result"
    }
   ],
   "source": [
    "backend = BasicAer.get_backend('qasm_simulator')\n",
    "job = execute(qc, backend, shots=1024)\n",
    "res = dict(job.result().get_counts(qc))\n",
    "res"
   ]
  }
 ],
 "metadata": {
  "kernelspec": {
   "display_name": "Python 3 (ipykernel)",
   "language": "python",
   "name": "python3"
  },
  "language_info": {
   "codemirror_mode": {
    "name": "ipython",
    "version": 3
   },
   "file_extension": ".py",
   "mimetype": "text/x-python",
   "name": "python",
   "nbconvert_exporter": "python",
   "pygments_lexer": "ipython3",
   "version": "3.8.8"
  }
 },
 "nbformat": 4,
 "nbformat_minor": 5
}
