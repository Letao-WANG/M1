{
 "cells": [
  {
   "cell_type": "code",
   "execution_count": 292,
   "id": "b23b36f4",
   "metadata": {},
   "outputs": [],
   "source": [
    "import numpy as np\n",
    "from math import pi, gcd\n",
    "import sympy as sp\n",
    "from sympy.physics.quantum import TensorProduct\n",
    "import pandas as pd\n",
    "import random\n",
    "try:\n",
    "    from qiskit import *\n",
    "    from matplotlib.pyplot import plot,show\n",
    "except:\n",
    "    ! python -m pip install matplotlib pylatexenc\n",
    "    ! python -m pip install qiskit\n",
    "from qiskit.circuit import *\n",
    "from qiskit.extensions import *\n",
    "from qiskit.circuit.library import *\n",
    "from qiskit.extensions.simulator.snapshot import snapshot\n",
    "from qiskit.quantum_info.operators import Operator\n",
    "from qiskit.extensions.simulator.snapshot import snapshot\n",
    "from qiskit.compiler import transpile\n",
    "from qiskit.transpiler import PassManager\n",
    "from qiskit.transpiler.passes import Unroller\n",
    "from scipy import optimize\n",
    "from matplotlib.pyplot import plot,show\n",
    "%matplotlib inline\n",
    "%config InlineBackend.figure_format = 'svg' # Makes the images look nice"
   ]
  },
  {
   "cell_type": "code",
   "execution_count": 250,
   "id": "be65a6d2",
   "metadata": {},
   "outputs": [
    {
     "data": {
      "text/latex": [
       "$\\displaystyle \\left[\\begin{matrix}0.0788682101922253 + 0.164058453170559 i & -0.0158224429068613 - 0.0334176364610215 i & 0.588679991509699 + 0.163639754637377 i & -0.761961118418323 + 0.107660083388574 i\\\\-0.00584717134384023 + 0.359683549888167 i & -0.4116580641717 - 0.708329253042642 i & -0.278466830070751 - 0.285227668991334 i & -0.174185975815889 - 0.100804311588177 i\\\\-0.0652727233934901 + 0.693689817230296 i & 0.408992449534322 + 0.246917853652611 i & -0.426064640413608 + 0.0825657428671443 i & -0.149295772391245 + 0.275051361500757 i\\\\0.468186573368146 + 0.364408322436617 i & -0.000561518648755852 + 0.314955002863249 i & 0.242855516041493 - 0.469523501342284 i & 0.128874070955251 - 0.502763653992476 i\\end{matrix}\\right]$"
      ],
      "text/plain": [
       "Matrix([\n",
       "[  0.0788682101922253 + 0.164058453170559*I,  -0.0158224429068613 - 0.0334176364610215*I,   0.588679991509699 + 0.163639754637377*I, -0.761961118418323 + 0.107660083388574*I],\n",
       "[-0.00584717134384023 + 0.359683549888167*I,      -0.4116580641717 - 0.708329253042642*I,  -0.278466830070751 - 0.285227668991334*I, -0.174185975815889 - 0.100804311588177*I],\n",
       "[ -0.0652727233934901 + 0.693689817230296*I,     0.408992449534322 + 0.246917853652611*I, -0.426064640413608 + 0.0825657428671443*I, -0.149295772391245 + 0.275051361500757*I],\n",
       "[   0.468186573368146 + 0.364408322436617*I, -0.000561518648755852 + 0.314955002863249*I,   0.242855516041493 - 0.469523501342284*I,  0.128874070955251 - 0.502763653992476*I]])"
      ]
     },
     "execution_count": 250,
     "metadata": {},
     "output_type": "execute_result"
    }
   ],
   "source": [
    "from scipy.stats import unitary_group\n",
    "x = unitary_group.rvs(4)\n",
    "sp.Matrix(x)"
   ]
  },
  {
   "cell_type": "code",
   "execution_count": 275,
   "id": "ef3aa17e",
   "metadata": {},
   "outputs": [],
   "source": [
    "x11, x12, x13, x14 = sp.symbols('x11, x12, x13, x14')\n",
    "x21, x22, x23, x24 = sp.symbols('x21, x22, x23, x24')\n",
    "x31, x32, x33, x34 = sp.symbols('x31, x32, x33, x34')\n",
    "x41, x42, x43, x44 = sp.symbols('x41, x42, x43, x44')\n",
    "\n",
    "K = sp.Matrix([[x11, x12, x13, x14],\n",
    "              [x21, x22, x23, x24],\n",
    "              [x31, x32, x33, x34],\n",
    "              [x41, x42, x43, x44]])\n",
    "\n",
    "K = (1/2)*sp.Matrix([[2j, 0, 0, 0],\n",
    "              [0, 2j, 0, 0],\n",
    "              [0, 0, 2j, 0],\n",
    "              [0, 0, 0, 2j]])\n",
    "\n",
    "a1, b1, a2, b2, a3, b3 = sp.symbols('a1, b1, a2, b2, a3, b3')\n",
    "x1 = sp.Matrix([[a1],[b1]])\n",
    "x2 = sp.Matrix([[a2],[b2]])\n",
    "x3 = sp.Matrix([[a3],[b3]])\n"
   ]
  },
  {
   "cell_type": "code",
   "execution_count": 285,
   "id": "4b45b57d",
   "metadata": {},
   "outputs": [],
   "source": [
    "def case1(K, x1, x2, x3):\n",
    "    X12 = TensorProduct(x1, x2)\n",
    "    X = TensorProduct(X12, x3)\n",
    "\n",
    "    O1 = TensorProduct(sp.eye(2), K)\n",
    "    state1 = O1.dot(X)\n",
    "\n",
    "    O2 = TensorProduct(K, sp.eye(2))\n",
    "    state2 = O2.dot(state1)\n",
    "    res1 = sp.Matrix(state2)\n",
    "    return res1"
   ]
  },
  {
   "cell_type": "code",
   "execution_count": 287,
   "id": "e24e4682",
   "metadata": {},
   "outputs": [],
   "source": [
    "def case2(K, x1, x2, x3):\n",
    "    X12 = TensorProduct(x1, x2)\n",
    "    X = TensorProduct(X12, x3)\n",
    "\n",
    "    O1 = TensorProduct(K, sp.eye(2))\n",
    "    state1 = O1.dot(X)\n",
    "\n",
    "    O2 = TensorProduct(sp.eye(2), K)\n",
    "    state2 = O2.dot(state1)\n",
    "    res2 = sp.Matrix(state2)\n",
    "    return res2"
   ]
  },
  {
   "cell_type": "code",
   "execution_count": 289,
   "id": "25d647ff",
   "metadata": {},
   "outputs": [],
   "source": [
    "def cases_equal(res1, res2):\n",
    "    return res1 == res2"
   ]
  },
  {
   "cell_type": "code",
   "execution_count": 454,
   "id": "9192a32a",
   "metadata": {},
   "outputs": [],
   "source": [
    "def is_unitary(m):\n",
    "    return np.allclose(np.eye(m.shape[0]), m.H * m)\n",
    "\n",
    "def check_symmetric(a, rtol=1e-05, atol=1e-08):\n",
    "    return np.allclose(a, a.T, rtol=rtol, atol=atol)\n",
    "\n",
    "def get_unitary():\n",
    "    matrix = []\n",
    "    Matrix = np.matrix([[1],[1]])\n",
    "    while not (is_unitary(Matrix) and check_symmetric(Matrix)):\n",
    "        \n",
    "        matrix = []\n",
    "        for i in range(4):\n",
    "            row = []\n",
    "            for j in range( 4):\n",
    "                row.append(0)\n",
    "            matrix.append(row)\n",
    "            \n",
    "        index = 0\n",
    "        for i in range(4):\n",
    "            for j in range(index, 4):\n",
    "                choice = [0, (1/np.sqrt(2)), 0.5, 1, np.sqrt(2)]\n",
    "                value = choice[random.randint(0, 4)]\n",
    "                matrix[i][j] = value\n",
    "                if i != j:\n",
    "                    matrix[j][i] = value\n",
    "            index = index + 1\n",
    "    return matrix"
   ]
  },
  {
   "cell_type": "code",
   "execution_count": 448,
   "id": "a27b1fe2",
   "metadata": {},
   "outputs": [
    {
     "data": {
      "text/latex": [
       "$\\displaystyle \\left[\\begin{matrix}0 & 0.5 & 0.5 & 1\\\\0.5 & 1 & 0.707106781186547 & 1.4142135623731\\\\0.5 & 0.707106781186547 & 1.4142135623731 & 0.707106781186547\\\\1 & 1.4142135623731 & 0.707106781186547 & 0.707106781186547\\end{matrix}\\right]$"
      ],
      "text/plain": [
       "Matrix([\n",
       "[  0,               0.5,               0.5,                 1],\n",
       "[0.5,                 1, 0.707106781186547,   1.4142135623731],\n",
       "[0.5, 0.707106781186547,   1.4142135623731, 0.707106781186547],\n",
       "[  1,   1.4142135623731, 0.707106781186547, 0.707106781186547]])"
      ]
     },
     "execution_count": 448,
     "metadata": {},
     "output_type": "execute_result"
    }
   ],
   "source": [
    "matrix = []\n",
    "for i in range(4):\n",
    "    row = []\n",
    "    for j in range( 4):\n",
    "        row.append(0)\n",
    "    matrix.append(row)\n",
    "\n",
    "index = 0\n",
    "for i in range(4):\n",
    "    for j in range(index, 4):\n",
    "        choice = [0, (1/np.sqrt(2)), 0.5, 1, np.sqrt(2)]\n",
    "        value = choice[random.randint(0, 4)]\n",
    "        matrix[i][j] = value\n",
    "        if i != j:\n",
    "            matrix[j][i] = value\n",
    "    index = index + 1\n",
    "    \n",
    "\n",
    "sp.Matrix(matrix)"
   ]
  },
  {
   "cell_type": "code",
   "execution_count": 455,
   "id": "7b2fed4d",
   "metadata": {},
   "outputs": [
    {
     "ename": "KeyboardInterrupt",
     "evalue": "",
     "output_type": "error",
     "traceback": [
      "\u001b[1;31m---------------------------------------------------------------------------\u001b[0m",
      "\u001b[1;31mKeyboardInterrupt\u001b[0m                         Traceback (most recent call last)",
      "\u001b[1;32m~\\AppData\\Local\\Temp/ipykernel_16816/2219878614.py\u001b[0m in \u001b[0;36m<module>\u001b[1;34m\u001b[0m\n\u001b[1;32m----> 1\u001b[1;33m \u001b[0mm\u001b[0m \u001b[1;33m=\u001b[0m \u001b[0mget_unitary\u001b[0m\u001b[1;33m(\u001b[0m\u001b[1;33m)\u001b[0m\u001b[1;33m\u001b[0m\u001b[1;33m\u001b[0m\u001b[0m\n\u001b[0m\u001b[0;32m      2\u001b[0m \u001b[0mK\u001b[0m \u001b[1;33m=\u001b[0m \u001b[0msp\u001b[0m\u001b[1;33m.\u001b[0m\u001b[0mMatrix\u001b[0m\u001b[1;33m(\u001b[0m\u001b[0mm\u001b[0m\u001b[1;33m)\u001b[0m\u001b[1;33m\u001b[0m\u001b[1;33m\u001b[0m\u001b[0m\n\u001b[0;32m      3\u001b[0m \u001b[0msp\u001b[0m\u001b[1;33m.\u001b[0m\u001b[0mMatrix\u001b[0m\u001b[1;33m(\u001b[0m\u001b[0mm\u001b[0m\u001b[1;33m)\u001b[0m\u001b[1;33m\u001b[0m\u001b[1;33m\u001b[0m\u001b[0m\n",
      "\u001b[1;32m~\\AppData\\Local\\Temp/ipykernel_16816/277422011.py\u001b[0m in \u001b[0;36mget_unitary\u001b[1;34m()\u001b[0m\n\u001b[0;32m      8\u001b[0m     \u001b[0mmatrix\u001b[0m \u001b[1;33m=\u001b[0m \u001b[1;33m[\u001b[0m\u001b[1;33m]\u001b[0m\u001b[1;33m\u001b[0m\u001b[1;33m\u001b[0m\u001b[0m\n\u001b[0;32m      9\u001b[0m     \u001b[0mMatrix\u001b[0m \u001b[1;33m=\u001b[0m \u001b[0mnp\u001b[0m\u001b[1;33m.\u001b[0m\u001b[0mmatrix\u001b[0m\u001b[1;33m(\u001b[0m\u001b[1;33m[\u001b[0m\u001b[1;33m[\u001b[0m\u001b[1;36m1\u001b[0m\u001b[1;33m]\u001b[0m\u001b[1;33m,\u001b[0m\u001b[1;33m[\u001b[0m\u001b[1;36m1\u001b[0m\u001b[1;33m]\u001b[0m\u001b[1;33m]\u001b[0m\u001b[1;33m)\u001b[0m\u001b[1;33m\u001b[0m\u001b[1;33m\u001b[0m\u001b[0m\n\u001b[1;32m---> 10\u001b[1;33m     \u001b[1;32mwhile\u001b[0m \u001b[1;32mnot\u001b[0m \u001b[1;33m(\u001b[0m\u001b[0mis_unitary\u001b[0m\u001b[1;33m(\u001b[0m\u001b[0mMatrix\u001b[0m\u001b[1;33m)\u001b[0m \u001b[1;32mand\u001b[0m \u001b[0mcheck_symmetric\u001b[0m\u001b[1;33m(\u001b[0m\u001b[0mMatrix\u001b[0m\u001b[1;33m)\u001b[0m\u001b[1;33m)\u001b[0m\u001b[1;33m:\u001b[0m\u001b[1;33m\u001b[0m\u001b[1;33m\u001b[0m\u001b[0m\n\u001b[0m\u001b[0;32m     11\u001b[0m \u001b[1;33m\u001b[0m\u001b[0m\n\u001b[0;32m     12\u001b[0m         \u001b[0mmatrix\u001b[0m \u001b[1;33m=\u001b[0m \u001b[1;33m[\u001b[0m\u001b[1;33m]\u001b[0m\u001b[1;33m\u001b[0m\u001b[1;33m\u001b[0m\u001b[0m\n",
      "\u001b[1;32m~\\AppData\\Local\\Temp/ipykernel_16816/277422011.py\u001b[0m in \u001b[0;36mis_unitary\u001b[1;34m(m)\u001b[0m\n\u001b[0;32m      1\u001b[0m \u001b[1;32mdef\u001b[0m \u001b[0mis_unitary\u001b[0m\u001b[1;33m(\u001b[0m\u001b[0mm\u001b[0m\u001b[1;33m)\u001b[0m\u001b[1;33m:\u001b[0m\u001b[1;33m\u001b[0m\u001b[1;33m\u001b[0m\u001b[0m\n\u001b[1;32m----> 2\u001b[1;33m     \u001b[1;32mreturn\u001b[0m \u001b[0mnp\u001b[0m\u001b[1;33m.\u001b[0m\u001b[0mallclose\u001b[0m\u001b[1;33m(\u001b[0m\u001b[0mnp\u001b[0m\u001b[1;33m.\u001b[0m\u001b[0meye\u001b[0m\u001b[1;33m(\u001b[0m\u001b[0mm\u001b[0m\u001b[1;33m.\u001b[0m\u001b[0mshape\u001b[0m\u001b[1;33m[\u001b[0m\u001b[1;36m0\u001b[0m\u001b[1;33m]\u001b[0m\u001b[1;33m)\u001b[0m\u001b[1;33m,\u001b[0m \u001b[0mm\u001b[0m\u001b[1;33m.\u001b[0m\u001b[0mH\u001b[0m \u001b[1;33m*\u001b[0m \u001b[0mm\u001b[0m\u001b[1;33m)\u001b[0m\u001b[1;33m\u001b[0m\u001b[1;33m\u001b[0m\u001b[0m\n\u001b[0m\u001b[0;32m      3\u001b[0m \u001b[1;33m\u001b[0m\u001b[0m\n\u001b[0;32m      4\u001b[0m \u001b[1;32mdef\u001b[0m \u001b[0mcheck_symmetric\u001b[0m\u001b[1;33m(\u001b[0m\u001b[0ma\u001b[0m\u001b[1;33m,\u001b[0m \u001b[0mrtol\u001b[0m\u001b[1;33m=\u001b[0m\u001b[1;36m1e-05\u001b[0m\u001b[1;33m,\u001b[0m \u001b[0matol\u001b[0m\u001b[1;33m=\u001b[0m\u001b[1;36m1e-08\u001b[0m\u001b[1;33m)\u001b[0m\u001b[1;33m:\u001b[0m\u001b[1;33m\u001b[0m\u001b[1;33m\u001b[0m\u001b[0m\n\u001b[0;32m      5\u001b[0m     \u001b[1;32mreturn\u001b[0m \u001b[0mnp\u001b[0m\u001b[1;33m.\u001b[0m\u001b[0mallclose\u001b[0m\u001b[1;33m(\u001b[0m\u001b[0ma\u001b[0m\u001b[1;33m,\u001b[0m \u001b[0ma\u001b[0m\u001b[1;33m.\u001b[0m\u001b[0mT\u001b[0m\u001b[1;33m,\u001b[0m \u001b[0mrtol\u001b[0m\u001b[1;33m=\u001b[0m\u001b[0mrtol\u001b[0m\u001b[1;33m,\u001b[0m \u001b[0matol\u001b[0m\u001b[1;33m=\u001b[0m\u001b[0matol\u001b[0m\u001b[1;33m)\u001b[0m\u001b[1;33m\u001b[0m\u001b[1;33m\u001b[0m\u001b[0m\n",
      "\u001b[1;32mD:\\Apps\\Anaconda\\lib\\site-packages\\numpy\\matrixlib\\defmatrix.py\u001b[0m in \u001b[0;36m__mul__\u001b[1;34m(self, other)\u001b[0m\n\u001b[0;32m    218\u001b[0m         \u001b[1;32mif\u001b[0m \u001b[0misinstance\u001b[0m\u001b[1;33m(\u001b[0m\u001b[0mother\u001b[0m\u001b[1;33m,\u001b[0m \u001b[1;33m(\u001b[0m\u001b[0mN\u001b[0m\u001b[1;33m.\u001b[0m\u001b[0mndarray\u001b[0m\u001b[1;33m,\u001b[0m \u001b[0mlist\u001b[0m\u001b[1;33m,\u001b[0m \u001b[0mtuple\u001b[0m\u001b[1;33m)\u001b[0m\u001b[1;33m)\u001b[0m \u001b[1;33m:\u001b[0m\u001b[1;33m\u001b[0m\u001b[1;33m\u001b[0m\u001b[0m\n\u001b[0;32m    219\u001b[0m             \u001b[1;31m# This promotes 1-D vectors to row vectors\u001b[0m\u001b[1;33m\u001b[0m\u001b[1;33m\u001b[0m\u001b[1;33m\u001b[0m\u001b[0m\n\u001b[1;32m--> 220\u001b[1;33m             \u001b[1;32mreturn\u001b[0m \u001b[0mN\u001b[0m\u001b[1;33m.\u001b[0m\u001b[0mdot\u001b[0m\u001b[1;33m(\u001b[0m\u001b[0mself\u001b[0m\u001b[1;33m,\u001b[0m \u001b[0masmatrix\u001b[0m\u001b[1;33m(\u001b[0m\u001b[0mother\u001b[0m\u001b[1;33m)\u001b[0m\u001b[1;33m)\u001b[0m\u001b[1;33m\u001b[0m\u001b[1;33m\u001b[0m\u001b[0m\n\u001b[0m\u001b[0;32m    221\u001b[0m         \u001b[1;32mif\u001b[0m \u001b[0misscalar\u001b[0m\u001b[1;33m(\u001b[0m\u001b[0mother\u001b[0m\u001b[1;33m)\u001b[0m \u001b[1;32mor\u001b[0m \u001b[1;32mnot\u001b[0m \u001b[0mhasattr\u001b[0m\u001b[1;33m(\u001b[0m\u001b[0mother\u001b[0m\u001b[1;33m,\u001b[0m \u001b[1;34m'__rmul__'\u001b[0m\u001b[1;33m)\u001b[0m \u001b[1;33m:\u001b[0m\u001b[1;33m\u001b[0m\u001b[1;33m\u001b[0m\u001b[0m\n\u001b[0;32m    222\u001b[0m             \u001b[1;32mreturn\u001b[0m \u001b[0mN\u001b[0m\u001b[1;33m.\u001b[0m\u001b[0mdot\u001b[0m\u001b[1;33m(\u001b[0m\u001b[0mself\u001b[0m\u001b[1;33m,\u001b[0m \u001b[0mother\u001b[0m\u001b[1;33m)\u001b[0m\u001b[1;33m\u001b[0m\u001b[1;33m\u001b[0m\u001b[0m\n",
      "\u001b[1;32m<__array_function__ internals>\u001b[0m in \u001b[0;36mdot\u001b[1;34m(*args, **kwargs)\u001b[0m\n",
      "\u001b[1;31mKeyboardInterrupt\u001b[0m: "
     ]
    }
   ],
   "source": [
    "m = get_unitary()\n",
    "K = sp.Matrix(m)\n",
    "sp.Matrix(m)"
   ]
  },
  {
   "cell_type": "code",
   "execution_count": null,
   "id": "054105b1",
   "metadata": {},
   "outputs": [],
   "source": [
    "K = sp.Matrix([[1, 0, 0, 0],\n",
    "              [0, 1, 0, 0],\n",
    "              [0, 0, 0, 1],\n",
    "              [0, 0, 1, 0]])\n",
    "\n",
    "while not cases_equal(case1(K, x1, x2, x3), case2(K, x1, x2, x3)):\n",
    "    m = get_unitary()\n",
    "    K = sp.Matrix(m)\n",
    "sp.Matrix(m)"
   ]
  },
  {
   "cell_type": "code",
   "execution_count": 393,
   "id": "a73ff485",
   "metadata": {},
   "outputs": [
    {
     "data": {
      "text/plain": [
       "True"
      ]
     },
     "execution_count": 393,
     "metadata": {},
     "output_type": "execute_result"
    }
   ],
   "source": [
    "K = sp.Matrix([[0, 0, 1, 0],\n",
    "              [0, 0, 0, 1],\n",
    "              [1, 0, 0, 0],\n",
    "              [0, 1, 0, 0]])\n",
    "cases_equal(case1(K, x1, x2, x3), case2(K, x1, x2, x3))"
   ]
  },
  {
   "cell_type": "code",
   "execution_count": 394,
   "id": "488ac80c",
   "metadata": {},
   "outputs": [
    {
     "data": {
      "text/latex": [
       "$\\displaystyle \\left[\\begin{matrix}a_{3} b_{1} b_{2}\\\\b_{1} b_{2} b_{3}\\\\a_{2} a_{3} b_{1}\\\\a_{2} b_{1} b_{3}\\\\a_{1} a_{3} b_{2}\\\\a_{1} b_{2} b_{3}\\\\a_{1} a_{2} a_{3}\\\\a_{1} a_{2} b_{3}\\end{matrix}\\right]$"
      ],
      "text/plain": [
       "Matrix([\n",
       "[a3*b1*b2],\n",
       "[b1*b2*b3],\n",
       "[a2*a3*b1],\n",
       "[a2*b1*b3],\n",
       "[a1*a3*b2],\n",
       "[a1*b2*b3],\n",
       "[a1*a2*a3],\n",
       "[a1*a2*b3]])"
      ]
     },
     "execution_count": 394,
     "metadata": {},
     "output_type": "execute_result"
    }
   ],
   "source": [
    "case1(K, x1, x2, x3)"
   ]
  },
  {
   "cell_type": "code",
   "execution_count": 395,
   "id": "fbd0f749",
   "metadata": {},
   "outputs": [
    {
     "data": {
      "text/latex": [
       "$\\displaystyle \\left[\\begin{matrix}a_{3} b_{1} b_{2}\\\\b_{1} b_{2} b_{3}\\\\a_{2} a_{3} b_{1}\\\\a_{2} b_{1} b_{3}\\\\a_{1} a_{3} b_{2}\\\\a_{1} b_{2} b_{3}\\\\a_{1} a_{2} a_{3}\\\\a_{1} a_{2} b_{3}\\end{matrix}\\right]$"
      ],
      "text/plain": [
       "Matrix([\n",
       "[a3*b1*b2],\n",
       "[b1*b2*b3],\n",
       "[a2*a3*b1],\n",
       "[a2*b1*b3],\n",
       "[a1*a3*b2],\n",
       "[a1*b2*b3],\n",
       "[a1*a2*a3],\n",
       "[a1*a2*b3]])"
      ]
     },
     "execution_count": 395,
     "metadata": {},
     "output_type": "execute_result"
    }
   ],
   "source": [
    "case2(K, x1, x2, x3)"
   ]
  },
  {
   "cell_type": "code",
   "execution_count": 384,
   "id": "89c3a6cc",
   "metadata": {},
   "outputs": [
    {
     "data": {
      "text/latex": [
       "$\\displaystyle - 1.0 a_{1} a_{2} a_{3}$"
      ],
      "text/plain": [
       "-1.0*a1*a2*a3"
      ]
     },
     "execution_count": 384,
     "metadata": {},
     "output_type": "execute_result"
    }
   ],
   "source": [
    "res1[0]"
   ]
  },
  {
   "cell_type": "code",
   "execution_count": 385,
   "id": "c4d96596",
   "metadata": {},
   "outputs": [
    {
     "data": {
      "text/latex": [
       "$\\displaystyle - 1.0 a_{1} a_{2} a_{3}$"
      ],
      "text/plain": [
       "-1.0*a1*a2*a3"
      ]
     },
     "execution_count": 385,
     "metadata": {},
     "output_type": "execute_result"
    }
   ],
   "source": [
    "res2[0]"
   ]
  },
  {
   "cell_type": "code",
   "execution_count": 270,
   "id": "4a4e4cb3",
   "metadata": {},
   "outputs": [
    {
     "data": {
      "text/latex": [
       "$\\displaystyle x_{11} \\left(a_{1} a_{2} a_{3} x_{21} + a_{1} a_{2} b_{3} x_{22} + a_{1} a_{3} b_{2} x_{23} + a_{1} b_{2} b_{3} x_{24}\\right) + x_{12} \\left(a_{1} a_{2} a_{3} x_{41} + a_{1} a_{2} b_{3} x_{42} + a_{1} a_{3} b_{2} x_{43} + a_{1} b_{2} b_{3} x_{44}\\right) + x_{13} \\left(a_{2} a_{3} b_{1} x_{21} + a_{2} b_{1} b_{3} x_{22} + a_{3} b_{1} b_{2} x_{23} + b_{1} b_{2} b_{3} x_{24}\\right) + x_{14} \\left(a_{2} a_{3} b_{1} x_{41} + a_{2} b_{1} b_{3} x_{42} + a_{3} b_{1} b_{2} x_{43} + b_{1} b_{2} b_{3} x_{44}\\right)$"
      ],
      "text/plain": [
       "x11*(a1*a2*a3*x21 + a1*a2*b3*x22 + a1*a3*b2*x23 + a1*b2*b3*x24) + x12*(a1*a2*a3*x41 + a1*a2*b3*x42 + a1*a3*b2*x43 + a1*b2*b3*x44) + x13*(a2*a3*b1*x21 + a2*b1*b3*x22 + a3*b1*b2*x23 + b1*b2*b3*x24) + x14*(a2*a3*b1*x41 + a2*b1*b3*x42 + a3*b1*b2*x43 + b1*b2*b3*x44)"
      ]
     },
     "execution_count": 270,
     "metadata": {},
     "output_type": "execute_result"
    }
   ],
   "source": [
    "res1[1]"
   ]
  },
  {
   "cell_type": "code",
   "execution_count": 271,
   "id": "4a8cabcd",
   "metadata": {},
   "outputs": [
    {
     "data": {
      "text/latex": [
       "$\\displaystyle x_{21} \\left(a_{1} a_{2} a_{3} x_{11} + a_{1} a_{3} b_{2} x_{12} + a_{2} a_{3} b_{1} x_{13} + a_{3} b_{1} b_{2} x_{14}\\right) + x_{22} \\left(a_{1} a_{2} b_{3} x_{11} + a_{1} b_{2} b_{3} x_{12} + a_{2} b_{1} b_{3} x_{13} + b_{1} b_{2} b_{3} x_{14}\\right) + x_{23} \\left(a_{1} a_{2} a_{3} x_{21} + a_{1} a_{3} b_{2} x_{22} + a_{2} a_{3} b_{1} x_{23} + a_{3} b_{1} b_{2} x_{24}\\right) + x_{24} \\left(a_{1} a_{2} b_{3} x_{21} + a_{1} b_{2} b_{3} x_{22} + a_{2} b_{1} b_{3} x_{23} + b_{1} b_{2} b_{3} x_{24}\\right)$"
      ],
      "text/plain": [
       "x21*(a1*a2*a3*x11 + a1*a3*b2*x12 + a2*a3*b1*x13 + a3*b1*b2*x14) + x22*(a1*a2*b3*x11 + a1*b2*b3*x12 + a2*b1*b3*x13 + b1*b2*b3*x14) + x23*(a1*a2*a3*x21 + a1*a3*b2*x22 + a2*a3*b1*x23 + a3*b1*b2*x24) + x24*(a1*a2*b3*x21 + a1*b2*b3*x22 + a2*b1*b3*x23 + b1*b2*b3*x24)"
      ]
     },
     "execution_count": 271,
     "metadata": {},
     "output_type": "execute_result"
    }
   ],
   "source": [
    "res2[1]"
   ]
  },
  {
   "cell_type": "code",
   "execution_count": 272,
   "id": "d56194ae",
   "metadata": {},
   "outputs": [
    {
     "data": {
      "text/latex": [
       "$\\displaystyle x_{21} \\left(a_{1} a_{2} a_{3} x_{11} + a_{1} a_{2} b_{3} x_{12} + a_{1} a_{3} b_{2} x_{13} + a_{1} b_{2} b_{3} x_{14}\\right) + x_{22} \\left(a_{1} a_{2} a_{3} x_{31} + a_{1} a_{2} b_{3} x_{32} + a_{1} a_{3} b_{2} x_{33} + a_{1} b_{2} b_{3} x_{34}\\right) + x_{23} \\left(a_{2} a_{3} b_{1} x_{11} + a_{2} b_{1} b_{3} x_{12} + a_{3} b_{1} b_{2} x_{13} + b_{1} b_{2} b_{3} x_{14}\\right) + x_{24} \\left(a_{2} a_{3} b_{1} x_{31} + a_{2} b_{1} b_{3} x_{32} + a_{3} b_{1} b_{2} x_{33} + b_{1} b_{2} b_{3} x_{34}\\right)$"
      ],
      "text/plain": [
       "x21*(a1*a2*a3*x11 + a1*a2*b3*x12 + a1*a3*b2*x13 + a1*b2*b3*x14) + x22*(a1*a2*a3*x31 + a1*a2*b3*x32 + a1*a3*b2*x33 + a1*b2*b3*x34) + x23*(a2*a3*b1*x11 + a2*b1*b3*x12 + a3*b1*b2*x13 + b1*b2*b3*x14) + x24*(a2*a3*b1*x31 + a2*b1*b3*x32 + a3*b1*b2*x33 + b1*b2*b3*x34)"
      ]
     },
     "execution_count": 272,
     "metadata": {},
     "output_type": "execute_result"
    }
   ],
   "source": [
    "res1[2]"
   ]
  },
  {
   "cell_type": "code",
   "execution_count": 273,
   "id": "1d635e57",
   "metadata": {},
   "outputs": [
    {
     "data": {
      "text/latex": [
       "$\\displaystyle x_{31} \\left(a_{1} a_{2} a_{3} x_{11} + a_{1} a_{3} b_{2} x_{12} + a_{2} a_{3} b_{1} x_{13} + a_{3} b_{1} b_{2} x_{14}\\right) + x_{32} \\left(a_{1} a_{2} b_{3} x_{11} + a_{1} b_{2} b_{3} x_{12} + a_{2} b_{1} b_{3} x_{13} + b_{1} b_{2} b_{3} x_{14}\\right) + x_{33} \\left(a_{1} a_{2} a_{3} x_{21} + a_{1} a_{3} b_{2} x_{22} + a_{2} a_{3} b_{1} x_{23} + a_{3} b_{1} b_{2} x_{24}\\right) + x_{34} \\left(a_{1} a_{2} b_{3} x_{21} + a_{1} b_{2} b_{3} x_{22} + a_{2} b_{1} b_{3} x_{23} + b_{1} b_{2} b_{3} x_{24}\\right)$"
      ],
      "text/plain": [
       "x31*(a1*a2*a3*x11 + a1*a3*b2*x12 + a2*a3*b1*x13 + a3*b1*b2*x14) + x32*(a1*a2*b3*x11 + a1*b2*b3*x12 + a2*b1*b3*x13 + b1*b2*b3*x14) + x33*(a1*a2*a3*x21 + a1*a3*b2*x22 + a2*a3*b1*x23 + a3*b1*b2*x24) + x34*(a1*a2*b3*x21 + a1*b2*b3*x22 + a2*b1*b3*x23 + b1*b2*b3*x24)"
      ]
     },
     "execution_count": 273,
     "metadata": {},
     "output_type": "execute_result"
    }
   ],
   "source": [
    "res2[2]"
   ]
  },
  {
   "cell_type": "code",
   "execution_count": 396,
   "id": "daa4d7fb",
   "metadata": {},
   "outputs": [
    {
     "data": {
      "text/plain": [
       "Instruction(name='unitary', num_qubits=2, num_clbits=0, params=[array([[0.+0.j, 0.+0.j, 1.+0.j, 0.+0.j],\n",
       "       [0.+0.j, 0.+0.j, 0.+0.j, 1.+0.j],\n",
       "       [1.+0.j, 0.+0.j, 0.+0.j, 0.+0.j],\n",
       "       [0.+0.j, 1.+0.j, 0.+0.j, 0.+0.j]])])"
      ]
     },
     "execution_count": 396,
     "metadata": {},
     "output_type": "execute_result"
    }
   ],
   "source": [
    "# matrix = []\n",
    "# for i in range(8):\n",
    "#     row = []\n",
    "#     for j in range(8):\n",
    "#         if i != j:\n",
    "#             row.append(0)\n",
    "#         else:\n",
    "#             row.append(np.exp(pi*2j*(1/4)))\n",
    "#     matrix.append(row)\n",
    "\n",
    "matrix = [[0, 0, 1, 0],\n",
    "              [0, 0, 0, 1],\n",
    "              [1, 0, 0, 0],\n",
    "              [0, 1, 0, 0]]\n",
    "       \n",
    "K = UnitaryGate(Operator(matrix), label=\"K\")\n",
    "K \n",
    "\n",
    "\n",
    "# K = UnitaryGate(\n",
    "#     Operator([[1,0,0,0,0,0,0,1],\n",
    "#               [0,1,0,0,0,0,0,0],\n",
    "#               [0,0,1,0,0,0,0,0],\n",
    "#               [0,0,0,1,0,0,0,0],\n",
    "#               [0,0,0,0,1,0,0,0],\n",
    "#               [0,0,0,0,0,1,0,0],\n",
    "#               [0,0,0,0,0,0,1,0],\n",
    "#               [1,0,0,0,0,0,0,1]]), label=\"K\")"
   ]
  },
  {
   "cell_type": "code",
   "execution_count": 397,
   "id": "01f95439",
   "metadata": {},
   "outputs": [
    {
     "data": {
      "text/html": [
       "<pre style=\"word-wrap: normal;white-space: pre;background: #fff0;line-height: 1.1;font-family: &quot;Courier New&quot;,Courier,monospace\">        ┌───┐┌────┐       ░ ┌─┐      \n",
       "q246_0: ┤ X ├┤0   ├───────░─┤M├──────\n",
       "        ├───┤│  K │┌────┐ ░ └╥┘┌─┐   \n",
       "q246_1: ┤ X ├┤1   ├┤0   ├─░──╫─┤M├───\n",
       "        └───┘└────┘│  K │ ░  ║ └╥┘┌─┐\n",
       "q246_2: ───────────┤1   ├─░──╫──╫─┤M├\n",
       "                   └────┘ ░  ║  ║ └╥┘\n",
       " c75_0: ═════════════════════╩══╬══╬═\n",
       "                                ║  ║ \n",
       " c75_1: ════════════════════════╩══╬═\n",
       "                                   ║ \n",
       " c75_2: ═══════════════════════════╩═\n",
       "                                     </pre>"
      ],
      "text/plain": [
       "        ┌───┐┌────┐       ░ ┌─┐      \n",
       "q246_0: ┤ X ├┤0   ├───────░─┤M├──────\n",
       "        ├───┤│  K │┌────┐ ░ └╥┘┌─┐   \n",
       "q246_1: ┤ X ├┤1   ├┤0   ├─░──╫─┤M├───\n",
       "        └───┘└────┘│  K │ ░  ║ └╥┘┌─┐\n",
       "q246_2: ───────────┤1   ├─░──╫──╫─┤M├\n",
       "                   └────┘ ░  ║  ║ └╥┘\n",
       " c75_0: ═════════════════════╩══╬══╬═\n",
       "                                ║  ║ \n",
       " c75_1: ════════════════════════╩══╬═\n",
       "                                   ║ \n",
       " c75_2: ═══════════════════════════╩═\n",
       "                                     "
      ]
     },
     "execution_count": 397,
     "metadata": {},
     "output_type": "execute_result"
    }
   ],
   "source": [
    "n = 2\n",
    "q = QuantumRegister(2*n-1)  \n",
    "c = ClassicalRegister(2*n-1) \n",
    "qc = QuantumCircuit(q,c) \n",
    "\n",
    "qc.x(q[0])\n",
    "qc.x(q[1])\n",
    "\n",
    "qc.append(K, [q[0], q[1]])\n",
    "qc.append(K, [q[1], q[2]])\n",
    "\n",
    "qc.barrier()\n",
    "qc.measure(q, c)\n",
    "qc.draw()\n"
   ]
  },
  {
   "cell_type": "code",
   "execution_count": 398,
   "id": "9db90892",
   "metadata": {},
   "outputs": [
    {
     "data": {
      "text/plain": [
       "{'101': 1024}"
      ]
     },
     "execution_count": 398,
     "metadata": {},
     "output_type": "execute_result"
    }
   ],
   "source": [
    "backend = BasicAer.get_backend('qasm_simulator')\n",
    "job = execute(qc, backend, shots=1024)\n",
    "res = dict(job.result().get_counts(qc))\n",
    "res"
   ]
  },
  {
   "cell_type": "code",
   "execution_count": 399,
   "id": "9e623e86",
   "metadata": {},
   "outputs": [
    {
     "data": {
      "text/html": [
       "<pre style=\"word-wrap: normal;white-space: pre;background: #fff0;line-height: 1.1;font-family: &quot;Courier New&quot;,Courier,monospace\">        ┌───┐      ┌────┐ ░ ┌─┐      \n",
       "q251_0: ┤ X ├──────┤0   ├─░─┤M├──────\n",
       "        ├───┤┌────┐│  K │ ░ └╥┘┌─┐   \n",
       "q251_1: ┤ X ├┤0   ├┤1   ├─░──╫─┤M├───\n",
       "        └───┘│  K │└────┘ ░  ║ └╥┘┌─┐\n",
       "q251_2: ─────┤1   ├───────░──╫──╫─┤M├\n",
       "             └────┘       ░  ║  ║ └╥┘\n",
       " c76_0: ═════════════════════╩══╬══╬═\n",
       "                                ║  ║ \n",
       " c76_1: ════════════════════════╩══╬═\n",
       "                                   ║ \n",
       " c76_2: ═══════════════════════════╩═\n",
       "                                     </pre>"
      ],
      "text/plain": [
       "        ┌───┐      ┌────┐ ░ ┌─┐      \n",
       "q251_0: ┤ X ├──────┤0   ├─░─┤M├──────\n",
       "        ├───┤┌────┐│  K │ ░ └╥┘┌─┐   \n",
       "q251_1: ┤ X ├┤0   ├┤1   ├─░──╫─┤M├───\n",
       "        └───┘│  K │└────┘ ░  ║ └╥┘┌─┐\n",
       "q251_2: ─────┤1   ├───────░──╫──╫─┤M├\n",
       "             └────┘       ░  ║  ║ └╥┘\n",
       " c76_0: ═════════════════════╩══╬══╬═\n",
       "                                ║  ║ \n",
       " c76_1: ════════════════════════╩══╬═\n",
       "                                   ║ \n",
       " c76_2: ═══════════════════════════╩═\n",
       "                                     "
      ]
     },
     "execution_count": 399,
     "metadata": {},
     "output_type": "execute_result"
    }
   ],
   "source": [
    "n = 2\n",
    "q = QuantumRegister(2*n-1)  \n",
    "c = ClassicalRegister(2*n-1) \n",
    "qc = QuantumCircuit(q,c) \n",
    "\n",
    "qc.x(q[0])\n",
    "qc.x(q[1])\n",
    "\n",
    "qc.append(K, [q[1], q[2]])\n",
    "qc.append(K, [q[0], q[1]])\n",
    "\n",
    "qc.barrier()\n",
    "qc.measure(q, c)\n",
    "qc.draw()"
   ]
  },
  {
   "cell_type": "code",
   "execution_count": 400,
   "id": "34858665",
   "metadata": {},
   "outputs": [
    {
     "data": {
      "text/plain": [
       "{'101': 1024}"
      ]
     },
     "execution_count": 400,
     "metadata": {},
     "output_type": "execute_result"
    }
   ],
   "source": [
    "backend = BasicAer.get_backend('qasm_simulator')\n",
    "job = execute(qc, backend, shots=1024)\n",
    "res = dict(job.result().get_counts(qc))\n",
    "res"
   ]
  },
  {
   "cell_type": "code",
   "execution_count": 204,
   "id": "72606a60",
   "metadata": {},
   "outputs": [
    {
     "data": {
      "text/plain": [
       "Instruction(name='unitary', num_qubits=2, num_clbits=0, params=[array([[6.123234e-17+1.j, 0.000000e+00+0.j, 0.000000e+00+0.j,\n",
       "        0.000000e+00+0.j],\n",
       "       [0.000000e+00+0.j, 6.123234e-17+1.j, 0.000000e+00+0.j,\n",
       "        0.000000e+00+0.j],\n",
       "       [0.000000e+00+0.j, 0.000000e+00+0.j, 6.123234e-17+1.j,\n",
       "        0.000000e+00+0.j],\n",
       "       [0.000000e+00+0.j, 0.000000e+00+0.j, 0.000000e+00+0.j,\n",
       "        6.123234e-17+1.j]])])"
      ]
     },
     "execution_count": 204,
     "metadata": {},
     "output_type": "execute_result"
    }
   ],
   "source": [
    "matrix = []\n",
    "for i in range(4):\n",
    "    row = []\n",
    "    for j in range(4):\n",
    "        if i != j:\n",
    "            row.append(0)\n",
    "        else:\n",
    "            row.append(np.exp(pi*2j*(1/4)))\n",
    "    matrix.append(row)\n",
    "\n",
    "matrix\n",
    "        \n",
    "K = UnitaryGate(Operator(matrix), label=\"K\")\n",
    "K "
   ]
  },
  {
   "cell_type": "code",
   "execution_count": 203,
   "id": "a413d3e6",
   "metadata": {},
   "outputs": [
    {
     "name": "stdout",
     "output_type": "stream",
     "text": [
      "(6.123234e-17+1j)\n"
     ]
    }
   ],
   "source": [
    "x = np.exp(pi*2j*(1/4))\n",
    "print(np.csingle(x))"
   ]
  },
  {
   "cell_type": "code",
   "execution_count": 210,
   "id": "fef98986",
   "metadata": {},
   "outputs": [
    {
     "data": {
      "text/html": [
       "<pre style=\"word-wrap: normal;white-space: pre;background: #fff0;line-height: 1.1;font-family: &quot;Courier New&quot;,Courier,monospace\">        ┌───┐ ░ ┌─┐      \n",
       "q220_0: ┤ X ├─░─┤M├──────\n",
       "        └───┘ ░ └╥┘┌─┐   \n",
       "q220_1: ──────░──╫─┤M├───\n",
       "              ░  ║ └╥┘┌─┐\n",
       "q220_2: ──────░──╫──╫─┤M├\n",
       "              ░  ║  ║ └╥┘\n",
       " c68_0: ═════════╩══╬══╬═\n",
       "                    ║  ║ \n",
       " c68_1: ════════════╩══╬═\n",
       "                       ║ \n",
       " c68_2: ═══════════════╩═\n",
       "                         </pre>"
      ],
      "text/plain": [
       "        ┌───┐ ░ ┌─┐      \n",
       "q220_0: ┤ X ├─░─┤M├──────\n",
       "        └───┘ ░ └╥┘┌─┐   \n",
       "q220_1: ──────░──╫─┤M├───\n",
       "              ░  ║ └╥┘┌─┐\n",
       "q220_2: ──────░──╫──╫─┤M├\n",
       "              ░  ║  ║ └╥┘\n",
       " c68_0: ═════════╩══╬══╬═\n",
       "                    ║  ║ \n",
       " c68_1: ════════════╩══╬═\n",
       "                       ║ \n",
       " c68_2: ═══════════════╩═\n",
       "                         "
      ]
     },
     "execution_count": 210,
     "metadata": {},
     "output_type": "execute_result"
    }
   ],
   "source": [
    "n = 3\n",
    "q = QuantumRegister(3)  \n",
    "c = ClassicalRegister(3) \n",
    "qc = QuantumCircuit(q,c) \n",
    "\n",
    "qc.x(q[0])\n",
    "\n",
    "qc.append(K, [q[0], q[1]])\n",
    "qc.append(K, [q[0], q[1]])\n",
    "\n",
    "qc.barrier()\n",
    "qc.measure(q, c)\n",
    "qc.draw()\n"
   ]
  },
  {
   "cell_type": "code",
   "execution_count": 211,
   "id": "9a291162",
   "metadata": {},
   "outputs": [
    {
     "data": {
      "text/plain": [
       "{'001': 1024}"
      ]
     },
     "execution_count": 211,
     "metadata": {},
     "output_type": "execute_result"
    }
   ],
   "source": [
    "backend = BasicAer.get_backend('qasm_simulator')\n",
    "job = execute(qc, backend, shots=1024)\n",
    "res = dict(job.result().get_counts(qc))\n",
    "res"
   ]
  }
 ],
 "metadata": {
  "kernelspec": {
   "display_name": "Python 3 (ipykernel)",
   "language": "python",
   "name": "python3"
  },
  "language_info": {
   "codemirror_mode": {
    "name": "ipython",
    "version": 3
   },
   "file_extension": ".py",
   "mimetype": "text/x-python",
   "name": "python",
   "nbconvert_exporter": "python",
   "pygments_lexer": "ipython3",
   "version": "3.8.8"
  }
 },
 "nbformat": 4,
 "nbformat_minor": 5
}
